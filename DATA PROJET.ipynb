{
 "cells": [
  {
   "cell_type": "markdown",
   "metadata": {},
   "source": [
    "# Traitement, Visualisation et Analyse des données"
   ]
  },
  {
   "cell_type": "code",
   "execution_count": 3,
   "metadata": {},
   "outputs": [],
   "source": [
    "import pandas as pd\n",
    "import matplotlib.pyplot as plt\n",
    "import numpy as np\n",
    "import scipy as sp\n",
    "\n"
   ]
  },
  {
   "cell_type": "markdown",
   "metadata": {},
   "source": [
    "# I - DEPLOIEMENT DE L'ENVIRONNEMENT"
   ]
  },
  {
   "cell_type": "markdown",
   "metadata": {},
   "source": [
    "http://eric.univ-lyon2.fr/~ricco/tanagra/fichiers/fr_Tanagra_Data_Manipulation_Pandas.pdf"
   ]
  },
  {
   "cell_type": "markdown",
   "metadata": {},
   "source": [
    "https://moncoachdata.com/blog/manipulation-de-donnees-avec-pandas/"
   ]
  },
  {
   "cell_type": "markdown",
   "metadata": {},
   "source": [
    "# visualisation en csv"
   ]
  },
  {
   "cell_type": "code",
   "execution_count": 2,
   "metadata": {},
   "outputs": [
    {
     "data": {
      "text/html": [
       "<div>\n",
       "<style scoped>\n",
       "    .dataframe tbody tr th:only-of-type {\n",
       "        vertical-align: middle;\n",
       "    }\n",
       "\n",
       "    .dataframe tbody tr th {\n",
       "        vertical-align: top;\n",
       "    }\n",
       "\n",
       "    .dataframe thead th {\n",
       "        text-align: right;\n",
       "    }\n",
       "</style>\n",
       "<table border=\"1\" class=\"dataframe\">\n",
       "  <thead>\n",
       "    <tr style=\"text-align: right;\">\n",
       "      <th></th>\n",
       "      <th>ID_NOM</th>\n",
       "      <th>Niv_Etude_Bac</th>\n",
       "      <th>age</th>\n",
       "      <th>contrat_de_travail</th>\n",
       "      <th>Salaire</th>\n",
       "      <th>dette_anterieure</th>\n",
       "      <th>etat_civile</th>\n",
       "      <th>apport</th>\n",
       "      <th>enfant_a_Charge</th>\n",
       "      <th>Solvable</th>\n",
       "    </tr>\n",
       "  </thead>\n",
       "  <tbody>\n",
       "    <tr>\n",
       "      <th>0</th>\n",
       "      <td>jean</td>\n",
       "      <td>3.0</td>\n",
       "      <td>45</td>\n",
       "      <td>CDI</td>\n",
       "      <td>40000</td>\n",
       "      <td>4000</td>\n",
       "      <td>M</td>\n",
       "      <td>0.3</td>\n",
       "      <td>3.0</td>\n",
       "      <td>OUI</td>\n",
       "    </tr>\n",
       "    <tr>\n",
       "      <th>1</th>\n",
       "      <td>VANESSA</td>\n",
       "      <td>5.0</td>\n",
       "      <td>28</td>\n",
       "      <td>CDI</td>\n",
       "      <td>30500</td>\n",
       "      <td>1320</td>\n",
       "      <td>M</td>\n",
       "      <td>0.1</td>\n",
       "      <td>0.0</td>\n",
       "      <td>OUI</td>\n",
       "    </tr>\n",
       "    <tr>\n",
       "      <th>2</th>\n",
       "      <td>TARCISSE</td>\n",
       "      <td>0.0</td>\n",
       "      <td>55</td>\n",
       "      <td>CDI</td>\n",
       "      <td>28000</td>\n",
       "      <td>40000</td>\n",
       "      <td>C</td>\n",
       "      <td>0.0</td>\n",
       "      <td>0.0</td>\n",
       "      <td>NON</td>\n",
       "    </tr>\n",
       "    <tr>\n",
       "      <th>3</th>\n",
       "      <td>TIBAULT</td>\n",
       "      <td>4.0</td>\n",
       "      <td>23</td>\n",
       "      <td>CDD</td>\n",
       "      <td>15000</td>\n",
       "      <td>0</td>\n",
       "      <td>M</td>\n",
       "      <td>0.1</td>\n",
       "      <td>NaN</td>\n",
       "      <td>OUI</td>\n",
       "    </tr>\n",
       "    <tr>\n",
       "      <th>4</th>\n",
       "      <td>GILES</td>\n",
       "      <td>0.0</td>\n",
       "      <td>33</td>\n",
       "      <td>CDD</td>\n",
       "      <td>27000</td>\n",
       "      <td>3000</td>\n",
       "      <td>C</td>\n",
       "      <td>0.1</td>\n",
       "      <td>2.0</td>\n",
       "      <td>NON</td>\n",
       "    </tr>\n",
       "    <tr>\n",
       "      <th>5</th>\n",
       "      <td>ETHAN</td>\n",
       "      <td>0.0</td>\n",
       "      <td>41</td>\n",
       "      <td>INTERIM</td>\n",
       "      <td>40000</td>\n",
       "      <td>1000</td>\n",
       "      <td>M</td>\n",
       "      <td>0.0</td>\n",
       "      <td>4.0</td>\n",
       "      <td>NON</td>\n",
       "    </tr>\n",
       "    <tr>\n",
       "      <th>6</th>\n",
       "      <td>LILIANE</td>\n",
       "      <td>-1.0</td>\n",
       "      <td>29</td>\n",
       "      <td>CDI</td>\n",
       "      <td>50000</td>\n",
       "      <td>3000</td>\n",
       "      <td>C</td>\n",
       "      <td>0.0</td>\n",
       "      <td>0.0</td>\n",
       "      <td>NON</td>\n",
       "    </tr>\n",
       "    <tr>\n",
       "      <th>7</th>\n",
       "      <td>GLODI</td>\n",
       "      <td>-3.0</td>\n",
       "      <td>24</td>\n",
       "      <td>INTERIM</td>\n",
       "      <td>29000</td>\n",
       "      <td>5000</td>\n",
       "      <td>C</td>\n",
       "      <td>0.0</td>\n",
       "      <td>0.0</td>\n",
       "      <td>NON</td>\n",
       "    </tr>\n",
       "    <tr>\n",
       "      <th>8</th>\n",
       "      <td>FLORIANE</td>\n",
       "      <td>NaN</td>\n",
       "      <td>26</td>\n",
       "      <td>CDI</td>\n",
       "      <td>44000</td>\n",
       "      <td>0</td>\n",
       "      <td>M</td>\n",
       "      <td>0.1</td>\n",
       "      <td>1.0</td>\n",
       "      <td>OUI</td>\n",
       "    </tr>\n",
       "    <tr>\n",
       "      <th>9</th>\n",
       "      <td>MARIE</td>\n",
       "      <td>3.0</td>\n",
       "      <td>37</td>\n",
       "      <td>CDI</td>\n",
       "      <td>45800</td>\n",
       "      <td>2000</td>\n",
       "      <td>M</td>\n",
       "      <td>0.2</td>\n",
       "      <td>2.0</td>\n",
       "      <td>OUI</td>\n",
       "    </tr>\n",
       "    <tr>\n",
       "      <th>10</th>\n",
       "      <td>BAKAMBU</td>\n",
       "      <td>2.0</td>\n",
       "      <td>40</td>\n",
       "      <td>CDI</td>\n",
       "      <td>60000</td>\n",
       "      <td>1500</td>\n",
       "      <td>M</td>\n",
       "      <td>0.3</td>\n",
       "      <td>3.0</td>\n",
       "      <td>OUI</td>\n",
       "    </tr>\n",
       "    <tr>\n",
       "      <th>11</th>\n",
       "      <td>FATOU</td>\n",
       "      <td>0.0</td>\n",
       "      <td>38</td>\n",
       "      <td>CDD</td>\n",
       "      <td>26000</td>\n",
       "      <td>8000</td>\n",
       "      <td>C</td>\n",
       "      <td>0.4</td>\n",
       "      <td>0.0</td>\n",
       "      <td>NON</td>\n",
       "    </tr>\n",
       "    <tr>\n",
       "      <th>12</th>\n",
       "      <td>WUAN</td>\n",
       "      <td>-3.0</td>\n",
       "      <td>39</td>\n",
       "      <td>INTERIM</td>\n",
       "      <td>29000</td>\n",
       "      <td>4900</td>\n",
       "      <td>M</td>\n",
       "      <td>0.0</td>\n",
       "      <td>1.0</td>\n",
       "      <td>NON</td>\n",
       "    </tr>\n",
       "    <tr>\n",
       "      <th>13</th>\n",
       "      <td>HUGO</td>\n",
       "      <td>0.0</td>\n",
       "      <td>31</td>\n",
       "      <td>CDI</td>\n",
       "      <td>43000</td>\n",
       "      <td>100000</td>\n",
       "      <td>M</td>\n",
       "      <td>0.2</td>\n",
       "      <td>2.0</td>\n",
       "      <td>NON</td>\n",
       "    </tr>\n",
       "    <tr>\n",
       "      <th>14</th>\n",
       "      <td>JOSEPH</td>\n",
       "      <td>1.0</td>\n",
       "      <td>70</td>\n",
       "      <td>CDD</td>\n",
       "      <td>45000</td>\n",
       "      <td>17000</td>\n",
       "      <td>C</td>\n",
       "      <td>0.3</td>\n",
       "      <td>0.0</td>\n",
       "      <td>NON</td>\n",
       "    </tr>\n",
       "    <tr>\n",
       "      <th>15</th>\n",
       "      <td>DIANE</td>\n",
       "      <td>0.0</td>\n",
       "      <td>42</td>\n",
       "      <td>ENTRPRENEUR</td>\n",
       "      <td>70000</td>\n",
       "      <td>26000</td>\n",
       "      <td>M</td>\n",
       "      <td>0.2</td>\n",
       "      <td>0.0</td>\n",
       "      <td>NON</td>\n",
       "    </tr>\n",
       "    <tr>\n",
       "      <th>16</th>\n",
       "      <td>FENG</td>\n",
       "      <td>8.0</td>\n",
       "      <td>46</td>\n",
       "      <td>CDI</td>\n",
       "      <td>80000</td>\n",
       "      <td>8000</td>\n",
       "      <td>M</td>\n",
       "      <td>0.0</td>\n",
       "      <td>3.0</td>\n",
       "      <td>OUI</td>\n",
       "    </tr>\n",
       "    <tr>\n",
       "      <th>17</th>\n",
       "      <td>FRICHET</td>\n",
       "      <td>3.0</td>\n",
       "      <td>23</td>\n",
       "      <td>CDI</td>\n",
       "      <td>100000</td>\n",
       "      <td>0</td>\n",
       "      <td>M</td>\n",
       "      <td>0.3</td>\n",
       "      <td>1.0</td>\n",
       "      <td>OUI</td>\n",
       "    </tr>\n",
       "    <tr>\n",
       "      <th>18</th>\n",
       "      <td>HOLLANDE</td>\n",
       "      <td>4.0</td>\n",
       "      <td>32</td>\n",
       "      <td>CDI</td>\n",
       "      <td>21000</td>\n",
       "      <td>1200</td>\n",
       "      <td>M</td>\n",
       "      <td>0.1</td>\n",
       "      <td>2.0</td>\n",
       "      <td>OUI</td>\n",
       "    </tr>\n",
       "  </tbody>\n",
       "</table>\n",
       "</div>"
      ],
      "text/plain": [
       "      ID_NOM  Niv_Etude_Bac  age contrat_de_travail  Salaire  \\\n",
       "0       jean            3.0   45                CDI    40000   \n",
       "1    VANESSA            5.0   28                CDI    30500   \n",
       "2   TARCISSE            0.0   55                CDI    28000   \n",
       "3    TIBAULT            4.0   23                CDD    15000   \n",
       "4      GILES            0.0   33                CDD    27000   \n",
       "5      ETHAN            0.0   41            INTERIM    40000   \n",
       "6    LILIANE           -1.0   29                CDI    50000   \n",
       "7      GLODI           -3.0   24            INTERIM    29000   \n",
       "8   FLORIANE            NaN   26                CDI    44000   \n",
       "9      MARIE            3.0   37                CDI    45800   \n",
       "10   BAKAMBU            2.0   40                CDI    60000   \n",
       "11     FATOU            0.0   38                CDD    26000   \n",
       "12      WUAN           -3.0   39            INTERIM    29000   \n",
       "13      HUGO            0.0   31                CDI    43000   \n",
       "14    JOSEPH            1.0   70                CDD    45000   \n",
       "15     DIANE            0.0   42        ENTRPRENEUR    70000   \n",
       "16      FENG            8.0   46                CDI    80000   \n",
       "17   FRICHET            3.0   23                CDI   100000   \n",
       "18  HOLLANDE            4.0   32                CDI    21000   \n",
       "\n",
       "    dette_anterieure etat_civile  apport  enfant_a_Charge Solvable  \n",
       "0               4000           M     0.3              3.0      OUI  \n",
       "1               1320           M     0.1              0.0      OUI  \n",
       "2              40000           C     0.0              0.0      NON  \n",
       "3                  0           M     0.1              NaN      OUI  \n",
       "4               3000           C     0.1              2.0      NON  \n",
       "5               1000           M     0.0              4.0      NON  \n",
       "6               3000           C     0.0              0.0      NON  \n",
       "7               5000           C     0.0              0.0      NON  \n",
       "8                  0           M     0.1              1.0      OUI  \n",
       "9               2000           M     0.2              2.0      OUI  \n",
       "10              1500           M     0.3              3.0      OUI  \n",
       "11              8000           C     0.4              0.0      NON  \n",
       "12              4900           M     0.0              1.0      NON  \n",
       "13            100000           M     0.2              2.0      NON  \n",
       "14             17000           C     0.3              0.0      NON  \n",
       "15             26000           M     0.2              0.0      NON  \n",
       "16              8000           M     0.0              3.0      OUI  \n",
       "17                 0           M     0.3              1.0      OUI  \n",
       "18              1200           M     0.1              2.0      OUI  "
      ]
     },
     "execution_count": 2,
     "metadata": {},
     "output_type": "execute_result"
    }
   ],
   "source": [
    "credit_immo = pd.read_csv('./credit_immo.csv', sep = \",\")\n",
    "credit_immo"
   ]
  },
  {
   "cell_type": "markdown",
   "metadata": {},
   "source": [
    "# visualisation en json"
   ]
  },
  {
   "cell_type": "code",
   "execution_count": 3,
   "metadata": {},
   "outputs": [
    {
     "data": {
      "text/html": [
       "<div>\n",
       "<style scoped>\n",
       "    .dataframe tbody tr th:only-of-type {\n",
       "        vertical-align: middle;\n",
       "    }\n",
       "\n",
       "    .dataframe tbody tr th {\n",
       "        vertical-align: top;\n",
       "    }\n",
       "\n",
       "    .dataframe thead th {\n",
       "        text-align: right;\n",
       "    }\n",
       "</style>\n",
       "<table border=\"1\" class=\"dataframe\">\n",
       "  <thead>\n",
       "    <tr style=\"text-align: right;\">\n",
       "      <th></th>\n",
       "      <th>0</th>\n",
       "      <th>1</th>\n",
       "      <th>2</th>\n",
       "      <th>3</th>\n",
       "      <th>4</th>\n",
       "      <th>5</th>\n",
       "      <th>6</th>\n",
       "      <th>7</th>\n",
       "      <th>8</th>\n",
       "      <th>9</th>\n",
       "      <th>10</th>\n",
       "      <th>11</th>\n",
       "      <th>12</th>\n",
       "      <th>13</th>\n",
       "      <th>14</th>\n",
       "      <th>15</th>\n",
       "      <th>16</th>\n",
       "      <th>17</th>\n",
       "      <th>18</th>\n",
       "    </tr>\n",
       "  </thead>\n",
       "  <tbody>\n",
       "    <tr>\n",
       "      <th>0</th>\n",
       "      <td>{'Salaire': '40000', 'ID_NOM': 'jean', 'dette_...</td>\n",
       "      <td>{'Salaire': '30500', 'ID_NOM': 'VANESSA', 'det...</td>\n",
       "      <td>{'Salaire': '28000', 'ID_NOM': 'TARCISSE', 'de...</td>\n",
       "      <td>{'Salaire': '15000', 'ID_NOM': 'TIBAULT', 'det...</td>\n",
       "      <td>{'Salaire': '27000', 'ID_NOM': 'GILES', 'dette...</td>\n",
       "      <td>{'Salaire': '40000', 'ID_NOM': 'ETHAN', 'dette...</td>\n",
       "      <td>{'Salaire': '50000', 'ID_NOM': 'LILIANE', 'det...</td>\n",
       "      <td>{'Salaire': '29000', 'ID_NOM': 'GLODI', 'dette...</td>\n",
       "      <td>{'Salaire': '44000', 'ID_NOM': 'FLORIANE', 'de...</td>\n",
       "      <td>{'Salaire': '45800', 'ID_NOM': 'MARIE', 'dette...</td>\n",
       "      <td>{'Salaire': '60000', 'ID_NOM': 'BAKAMBU', 'det...</td>\n",
       "      <td>{'Salaire': '26000', 'ID_NOM': 'FATOU', 'dette...</td>\n",
       "      <td>{'Salaire': '29000', 'ID_NOM': 'WUAN', 'dette_...</td>\n",
       "      <td>{'Salaire': '43000', 'ID_NOM': 'HUGO', 'dette_...</td>\n",
       "      <td>{'Salaire': '45000', 'ID_NOM': 'JOSEPH', 'dett...</td>\n",
       "      <td>{'Salaire': '70000', 'ID_NOM': 'DIANE', 'dette...</td>\n",
       "      <td>{'Salaire': '80000', 'ID_NOM': 'FENG', 'dette_...</td>\n",
       "      <td>{'Salaire': '100000', 'ID_NOM': 'FRICHET', 'de...</td>\n",
       "      <td>{'Salaire': '21000', 'ID_NOM': 'HOLLANDE', 'de...</td>\n",
       "    </tr>\n",
       "  </tbody>\n",
       "</table>\n",
       "</div>"
      ],
      "text/plain": [
       "                                                   0  \\\n",
       "0  {'Salaire': '40000', 'ID_NOM': 'jean', 'dette_...   \n",
       "\n",
       "                                                   1  \\\n",
       "0  {'Salaire': '30500', 'ID_NOM': 'VANESSA', 'det...   \n",
       "\n",
       "                                                   2  \\\n",
       "0  {'Salaire': '28000', 'ID_NOM': 'TARCISSE', 'de...   \n",
       "\n",
       "                                                   3  \\\n",
       "0  {'Salaire': '15000', 'ID_NOM': 'TIBAULT', 'det...   \n",
       "\n",
       "                                                   4  \\\n",
       "0  {'Salaire': '27000', 'ID_NOM': 'GILES', 'dette...   \n",
       "\n",
       "                                                   5  \\\n",
       "0  {'Salaire': '40000', 'ID_NOM': 'ETHAN', 'dette...   \n",
       "\n",
       "                                                   6  \\\n",
       "0  {'Salaire': '50000', 'ID_NOM': 'LILIANE', 'det...   \n",
       "\n",
       "                                                   7  \\\n",
       "0  {'Salaire': '29000', 'ID_NOM': 'GLODI', 'dette...   \n",
       "\n",
       "                                                   8  \\\n",
       "0  {'Salaire': '44000', 'ID_NOM': 'FLORIANE', 'de...   \n",
       "\n",
       "                                                   9  \\\n",
       "0  {'Salaire': '45800', 'ID_NOM': 'MARIE', 'dette...   \n",
       "\n",
       "                                                  10  \\\n",
       "0  {'Salaire': '60000', 'ID_NOM': 'BAKAMBU', 'det...   \n",
       "\n",
       "                                                  11  \\\n",
       "0  {'Salaire': '26000', 'ID_NOM': 'FATOU', 'dette...   \n",
       "\n",
       "                                                  12  \\\n",
       "0  {'Salaire': '29000', 'ID_NOM': 'WUAN', 'dette_...   \n",
       "\n",
       "                                                  13  \\\n",
       "0  {'Salaire': '43000', 'ID_NOM': 'HUGO', 'dette_...   \n",
       "\n",
       "                                                  14  \\\n",
       "0  {'Salaire': '45000', 'ID_NOM': 'JOSEPH', 'dett...   \n",
       "\n",
       "                                                  15  \\\n",
       "0  {'Salaire': '70000', 'ID_NOM': 'DIANE', 'dette...   \n",
       "\n",
       "                                                  16  \\\n",
       "0  {'Salaire': '80000', 'ID_NOM': 'FENG', 'dette_...   \n",
       "\n",
       "                                                  17  \\\n",
       "0  {'Salaire': '100000', 'ID_NOM': 'FRICHET', 'de...   \n",
       "\n",
       "                                                  18  \n",
       "0  {'Salaire': '21000', 'ID_NOM': 'HOLLANDE', 'de...  "
      ]
     },
     "execution_count": 3,
     "metadata": {},
     "output_type": "execute_result"
    }
   ],
   "source": [
    "credit_immo = pd.read_json('./credit_immo.json', lines = True)\n",
    "credit_immo\n"
   ]
  },
  {
   "cell_type": "markdown",
   "metadata": {},
   "source": [
    "# visualisation en xls"
   ]
  },
  {
   "cell_type": "code",
   "execution_count": 4,
   "metadata": {},
   "outputs": [
    {
     "data": {
      "text/html": [
       "<div>\n",
       "<style scoped>\n",
       "    .dataframe tbody tr th:only-of-type {\n",
       "        vertical-align: middle;\n",
       "    }\n",
       "\n",
       "    .dataframe tbody tr th {\n",
       "        vertical-align: top;\n",
       "    }\n",
       "\n",
       "    .dataframe thead th {\n",
       "        text-align: right;\n",
       "    }\n",
       "</style>\n",
       "<table border=\"1\" class=\"dataframe\">\n",
       "  <thead>\n",
       "    <tr style=\"text-align: right;\">\n",
       "      <th></th>\n",
       "      <th>ID_NOM</th>\n",
       "      <th>Niv_Etude_Bac</th>\n",
       "      <th>age</th>\n",
       "      <th>contrat_de_travail</th>\n",
       "      <th>Salaire</th>\n",
       "      <th>dette_anterieure</th>\n",
       "      <th>etat_civile</th>\n",
       "      <th>apport</th>\n",
       "      <th>enfant_a_Charge</th>\n",
       "      <th>Solvable</th>\n",
       "    </tr>\n",
       "  </thead>\n",
       "  <tbody>\n",
       "    <tr>\n",
       "      <th>0</th>\n",
       "      <td>jean</td>\n",
       "      <td>3.0</td>\n",
       "      <td>45</td>\n",
       "      <td>CDI</td>\n",
       "      <td>40000</td>\n",
       "      <td>4000</td>\n",
       "      <td>M</td>\n",
       "      <td>0.3</td>\n",
       "      <td>3.0</td>\n",
       "      <td>OUI</td>\n",
       "    </tr>\n",
       "    <tr>\n",
       "      <th>1</th>\n",
       "      <td>VANESSA</td>\n",
       "      <td>5.0</td>\n",
       "      <td>28</td>\n",
       "      <td>CDI</td>\n",
       "      <td>30500</td>\n",
       "      <td>1320</td>\n",
       "      <td>M</td>\n",
       "      <td>0.1</td>\n",
       "      <td>0.0</td>\n",
       "      <td>OUI</td>\n",
       "    </tr>\n",
       "    <tr>\n",
       "      <th>2</th>\n",
       "      <td>TARCISSE</td>\n",
       "      <td>0.0</td>\n",
       "      <td>55</td>\n",
       "      <td>CDI</td>\n",
       "      <td>28000</td>\n",
       "      <td>40000</td>\n",
       "      <td>C</td>\n",
       "      <td>0.0</td>\n",
       "      <td>0.0</td>\n",
       "      <td>NON</td>\n",
       "    </tr>\n",
       "    <tr>\n",
       "      <th>3</th>\n",
       "      <td>TIBAULT</td>\n",
       "      <td>4.0</td>\n",
       "      <td>23</td>\n",
       "      <td>CDD</td>\n",
       "      <td>15000</td>\n",
       "      <td>0</td>\n",
       "      <td>M</td>\n",
       "      <td>0.1</td>\n",
       "      <td>NaN</td>\n",
       "      <td>OUI</td>\n",
       "    </tr>\n",
       "    <tr>\n",
       "      <th>4</th>\n",
       "      <td>GILES</td>\n",
       "      <td>0.0</td>\n",
       "      <td>33</td>\n",
       "      <td>CDD</td>\n",
       "      <td>27000</td>\n",
       "      <td>3000</td>\n",
       "      <td>C</td>\n",
       "      <td>0.1</td>\n",
       "      <td>2.0</td>\n",
       "      <td>NON</td>\n",
       "    </tr>\n",
       "    <tr>\n",
       "      <th>5</th>\n",
       "      <td>ETHAN</td>\n",
       "      <td>0.0</td>\n",
       "      <td>41</td>\n",
       "      <td>INTERIM</td>\n",
       "      <td>40000</td>\n",
       "      <td>1000</td>\n",
       "      <td>M</td>\n",
       "      <td>0.0</td>\n",
       "      <td>4.0</td>\n",
       "      <td>NON</td>\n",
       "    </tr>\n",
       "    <tr>\n",
       "      <th>6</th>\n",
       "      <td>LILIANE</td>\n",
       "      <td>-1.0</td>\n",
       "      <td>29</td>\n",
       "      <td>CDI</td>\n",
       "      <td>50000</td>\n",
       "      <td>3000</td>\n",
       "      <td>C</td>\n",
       "      <td>0.0</td>\n",
       "      <td>0.0</td>\n",
       "      <td>NON</td>\n",
       "    </tr>\n",
       "    <tr>\n",
       "      <th>7</th>\n",
       "      <td>GLODI</td>\n",
       "      <td>-3.0</td>\n",
       "      <td>24</td>\n",
       "      <td>INTERIM</td>\n",
       "      <td>29000</td>\n",
       "      <td>5000</td>\n",
       "      <td>C</td>\n",
       "      <td>0.0</td>\n",
       "      <td>0.0</td>\n",
       "      <td>NON</td>\n",
       "    </tr>\n",
       "    <tr>\n",
       "      <th>8</th>\n",
       "      <td>FLORIANE</td>\n",
       "      <td>NaN</td>\n",
       "      <td>26</td>\n",
       "      <td>CDI</td>\n",
       "      <td>44000</td>\n",
       "      <td>0</td>\n",
       "      <td>M</td>\n",
       "      <td>0.1</td>\n",
       "      <td>1.0</td>\n",
       "      <td>OUI</td>\n",
       "    </tr>\n",
       "    <tr>\n",
       "      <th>9</th>\n",
       "      <td>MARIE</td>\n",
       "      <td>3.0</td>\n",
       "      <td>37</td>\n",
       "      <td>CDI</td>\n",
       "      <td>45800</td>\n",
       "      <td>2000</td>\n",
       "      <td>M</td>\n",
       "      <td>0.2</td>\n",
       "      <td>2.0</td>\n",
       "      <td>OUI</td>\n",
       "    </tr>\n",
       "    <tr>\n",
       "      <th>10</th>\n",
       "      <td>BAKAMBU</td>\n",
       "      <td>2.0</td>\n",
       "      <td>40</td>\n",
       "      <td>CDI</td>\n",
       "      <td>60000</td>\n",
       "      <td>1500</td>\n",
       "      <td>M</td>\n",
       "      <td>0.3</td>\n",
       "      <td>3.0</td>\n",
       "      <td>OUI</td>\n",
       "    </tr>\n",
       "    <tr>\n",
       "      <th>11</th>\n",
       "      <td>FATOU</td>\n",
       "      <td>0.0</td>\n",
       "      <td>38</td>\n",
       "      <td>CDD</td>\n",
       "      <td>26000</td>\n",
       "      <td>8000</td>\n",
       "      <td>C</td>\n",
       "      <td>0.4</td>\n",
       "      <td>0.0</td>\n",
       "      <td>NON</td>\n",
       "    </tr>\n",
       "    <tr>\n",
       "      <th>12</th>\n",
       "      <td>WUAN</td>\n",
       "      <td>-3.0</td>\n",
       "      <td>39</td>\n",
       "      <td>INTERIM</td>\n",
       "      <td>29000</td>\n",
       "      <td>4900</td>\n",
       "      <td>M</td>\n",
       "      <td>0.0</td>\n",
       "      <td>1.0</td>\n",
       "      <td>NON</td>\n",
       "    </tr>\n",
       "    <tr>\n",
       "      <th>13</th>\n",
       "      <td>HUGO</td>\n",
       "      <td>0.0</td>\n",
       "      <td>31</td>\n",
       "      <td>CDI</td>\n",
       "      <td>43000</td>\n",
       "      <td>100000</td>\n",
       "      <td>M</td>\n",
       "      <td>0.2</td>\n",
       "      <td>2.0</td>\n",
       "      <td>NON</td>\n",
       "    </tr>\n",
       "    <tr>\n",
       "      <th>14</th>\n",
       "      <td>JOSEPH</td>\n",
       "      <td>1.0</td>\n",
       "      <td>70</td>\n",
       "      <td>CDD</td>\n",
       "      <td>45000</td>\n",
       "      <td>17000</td>\n",
       "      <td>C</td>\n",
       "      <td>0.3</td>\n",
       "      <td>0.0</td>\n",
       "      <td>NON</td>\n",
       "    </tr>\n",
       "    <tr>\n",
       "      <th>15</th>\n",
       "      <td>DIANE</td>\n",
       "      <td>0.0</td>\n",
       "      <td>42</td>\n",
       "      <td>ENTRPRENEUR</td>\n",
       "      <td>70000</td>\n",
       "      <td>26000</td>\n",
       "      <td>M</td>\n",
       "      <td>0.2</td>\n",
       "      <td>0.0</td>\n",
       "      <td>NON</td>\n",
       "    </tr>\n",
       "    <tr>\n",
       "      <th>16</th>\n",
       "      <td>FENG</td>\n",
       "      <td>8.0</td>\n",
       "      <td>46</td>\n",
       "      <td>CDI</td>\n",
       "      <td>80000</td>\n",
       "      <td>8000</td>\n",
       "      <td>M</td>\n",
       "      <td>0.0</td>\n",
       "      <td>3.0</td>\n",
       "      <td>OUI</td>\n",
       "    </tr>\n",
       "    <tr>\n",
       "      <th>17</th>\n",
       "      <td>FRICHET</td>\n",
       "      <td>3.0</td>\n",
       "      <td>23</td>\n",
       "      <td>CDI</td>\n",
       "      <td>100000</td>\n",
       "      <td>0</td>\n",
       "      <td>M</td>\n",
       "      <td>0.3</td>\n",
       "      <td>1.0</td>\n",
       "      <td>OUI</td>\n",
       "    </tr>\n",
       "    <tr>\n",
       "      <th>18</th>\n",
       "      <td>HOLLANDE</td>\n",
       "      <td>4.0</td>\n",
       "      <td>32</td>\n",
       "      <td>CDI</td>\n",
       "      <td>21000</td>\n",
       "      <td>1200</td>\n",
       "      <td>M</td>\n",
       "      <td>0.1</td>\n",
       "      <td>2.0</td>\n",
       "      <td>OUI</td>\n",
       "    </tr>\n",
       "  </tbody>\n",
       "</table>\n",
       "</div>"
      ],
      "text/plain": [
       "      ID_NOM  Niv_Etude_Bac  age contrat_de_travail  Salaire  \\\n",
       "0       jean            3.0   45                CDI    40000   \n",
       "1    VANESSA            5.0   28                CDI    30500   \n",
       "2   TARCISSE            0.0   55                CDI    28000   \n",
       "3    TIBAULT            4.0   23                CDD    15000   \n",
       "4      GILES            0.0   33                CDD    27000   \n",
       "5      ETHAN            0.0   41            INTERIM    40000   \n",
       "6    LILIANE           -1.0   29                CDI    50000   \n",
       "7      GLODI           -3.0   24            INTERIM    29000   \n",
       "8   FLORIANE            NaN   26                CDI    44000   \n",
       "9      MARIE            3.0   37                CDI    45800   \n",
       "10   BAKAMBU            2.0   40                CDI    60000   \n",
       "11     FATOU            0.0   38                CDD    26000   \n",
       "12      WUAN           -3.0   39            INTERIM    29000   \n",
       "13      HUGO            0.0   31                CDI    43000   \n",
       "14    JOSEPH            1.0   70                CDD    45000   \n",
       "15     DIANE            0.0   42        ENTRPRENEUR    70000   \n",
       "16      FENG            8.0   46                CDI    80000   \n",
       "17   FRICHET            3.0   23                CDI   100000   \n",
       "18  HOLLANDE            4.0   32                CDI    21000   \n",
       "\n",
       "    dette_anterieure etat_civile  apport  enfant_a_Charge Solvable  \n",
       "0               4000           M     0.3              3.0      OUI  \n",
       "1               1320           M     0.1              0.0      OUI  \n",
       "2              40000           C     0.0              0.0      NON  \n",
       "3                  0           M     0.1              NaN      OUI  \n",
       "4               3000           C     0.1              2.0      NON  \n",
       "5               1000           M     0.0              4.0      NON  \n",
       "6               3000           C     0.0              0.0      NON  \n",
       "7               5000           C     0.0              0.0      NON  \n",
       "8                  0           M     0.1              1.0      OUI  \n",
       "9               2000           M     0.2              2.0      OUI  \n",
       "10              1500           M     0.3              3.0      OUI  \n",
       "11              8000           C     0.4              0.0      NON  \n",
       "12              4900           M     0.0              1.0      NON  \n",
       "13            100000           M     0.2              2.0      NON  \n",
       "14             17000           C     0.3              0.0      NON  \n",
       "15             26000           M     0.2              0.0      NON  \n",
       "16              8000           M     0.0              3.0      OUI  \n",
       "17                 0           M     0.3              1.0      OUI  \n",
       "18              1200           M     0.1              2.0      OUI  "
      ]
     },
     "execution_count": 4,
     "metadata": {},
     "output_type": "execute_result"
    }
   ],
   "source": [
    "credit_immo = pd.read_excel('./credit_immo.xls', sep = \",\")\n",
    "credit_immo\n"
   ]
  },
  {
   "cell_type": "markdown",
   "metadata": {},
   "source": [
    "# II - MANIPULATION DE DONNEES"
   ]
  },
  {
   "cell_type": "markdown",
   "metadata": {},
   "source": [
    "# **création bbd formée de 6 lignes et 4 colonnes**"
   ]
  },
  {
   "cell_type": "code",
   "execution_count": 38,
   "metadata": {},
   "outputs": [
    {
     "data": {
      "text/html": [
       "<div>\n",
       "<style scoped>\n",
       "    .dataframe tbody tr th:only-of-type {\n",
       "        vertical-align: middle;\n",
       "    }\n",
       "\n",
       "    .dataframe tbody tr th {\n",
       "        vertical-align: top;\n",
       "    }\n",
       "\n",
       "    .dataframe thead th {\n",
       "        text-align: right;\n",
       "    }\n",
       "</style>\n",
       "<table border=\"1\" class=\"dataframe\">\n",
       "  <thead>\n",
       "    <tr style=\"text-align: right;\">\n",
       "      <th></th>\n",
       "      <th>taux_de_ventes</th>\n",
       "      <th>croissance_vente</th>\n",
       "      <th>ratio_benefice</th>\n",
       "      <th>ratio_perte</th>\n",
       "    </tr>\n",
       "  </thead>\n",
       "  <tbody>\n",
       "    <tr>\n",
       "      <th>0</th>\n",
       "      <td>0.916044</td>\n",
       "      <td>0.110062</td>\n",
       "      <td>0.169301</td>\n",
       "      <td>0.527045</td>\n",
       "    </tr>\n",
       "    <tr>\n",
       "      <th>1</th>\n",
       "      <td>0.747256</td>\n",
       "      <td>0.056937</td>\n",
       "      <td>0.961844</td>\n",
       "      <td>0.110448</td>\n",
       "    </tr>\n",
       "    <tr>\n",
       "      <th>2</th>\n",
       "      <td>0.469259</td>\n",
       "      <td>0.999019</td>\n",
       "      <td>0.585884</td>\n",
       "      <td>0.440637</td>\n",
       "    </tr>\n",
       "    <tr>\n",
       "      <th>3</th>\n",
       "      <td>0.348733</td>\n",
       "      <td>0.266469</td>\n",
       "      <td>0.510151</td>\n",
       "      <td>0.560100</td>\n",
       "    </tr>\n",
       "    <tr>\n",
       "      <th>4</th>\n",
       "      <td>0.584645</td>\n",
       "      <td>0.598161</td>\n",
       "      <td>0.691381</td>\n",
       "      <td>0.753186</td>\n",
       "    </tr>\n",
       "    <tr>\n",
       "      <th>5</th>\n",
       "      <td>0.610257</td>\n",
       "      <td>0.343888</td>\n",
       "      <td>0.509630</td>\n",
       "      <td>0.319393</td>\n",
       "    </tr>\n",
       "  </tbody>\n",
       "</table>\n",
       "</div>"
      ],
      "text/plain": [
       "   taux_de_ventes  croissance_vente  ratio_benefice  ratio_perte\n",
       "0        0.916044          0.110062        0.169301     0.527045\n",
       "1        0.747256          0.056937        0.961844     0.110448\n",
       "2        0.469259          0.999019        0.585884     0.440637\n",
       "3        0.348733          0.266469        0.510151     0.560100\n",
       "4        0.584645          0.598161        0.691381     0.753186\n",
       "5        0.610257          0.343888        0.509630     0.319393"
      ]
     },
     "execution_count": 38,
     "metadata": {},
     "output_type": "execute_result"
    }
   ],
   "source": [
    "# version 1\n",
    "bibliotheque = pd.DataFrame(np.random.rand(6,4),columns=['taux_de_ventes','croissance_vente','ratio_benefice','ratio_perte'], index=[i for i in range(0, 6)])\n",
    "bibliotheque"
   ]
  },
  {
   "cell_type": "markdown",
   "metadata": {},
   "source": [
    "# dataset.reindex() "
   ]
  },
  {
   "cell_type": "code",
   "execution_count": 50,
   "metadata": {},
   "outputs": [
    {
     "data": {
      "text/html": [
       "<div>\n",
       "<style scoped>\n",
       "    .dataframe tbody tr th:only-of-type {\n",
       "        vertical-align: middle;\n",
       "    }\n",
       "\n",
       "    .dataframe tbody tr th {\n",
       "        vertical-align: top;\n",
       "    }\n",
       "\n",
       "    .dataframe thead th {\n",
       "        text-align: right;\n",
       "    }\n",
       "</style>\n",
       "<table border=\"1\" class=\"dataframe\">\n",
       "  <thead>\n",
       "    <tr style=\"text-align: right;\">\n",
       "      <th></th>\n",
       "      <th>taux_de_ventes</th>\n",
       "      <th>croissance_vente</th>\n",
       "      <th>ratio_benefice</th>\n",
       "      <th>ratio_perte</th>\n",
       "    </tr>\n",
       "  </thead>\n",
       "  <tbody>\n",
       "    <tr>\n",
       "      <th>1</th>\n",
       "      <td>0.365416</td>\n",
       "      <td>0.027132</td>\n",
       "      <td>0.451503</td>\n",
       "      <td>0.448197</td>\n",
       "    </tr>\n",
       "    <tr>\n",
       "      <th>2</th>\n",
       "      <td>0.250608</td>\n",
       "      <td>0.573645</td>\n",
       "      <td>0.972394</td>\n",
       "      <td>0.591484</td>\n",
       "    </tr>\n",
       "    <tr>\n",
       "      <th>4</th>\n",
       "      <td>0.841156</td>\n",
       "      <td>0.400608</td>\n",
       "      <td>0.343085</td>\n",
       "      <td>0.633722</td>\n",
       "    </tr>\n",
       "    <tr>\n",
       "      <th>5</th>\n",
       "      <td>0.018305</td>\n",
       "      <td>0.972940</td>\n",
       "      <td>0.054308</td>\n",
       "      <td>0.965794</td>\n",
       "    </tr>\n",
       "    <tr>\n",
       "      <th>7</th>\n",
       "      <td>0.679245</td>\n",
       "      <td>0.229705</td>\n",
       "      <td>0.880631</td>\n",
       "      <td>0.746072</td>\n",
       "    </tr>\n",
       "    <tr>\n",
       "      <th>8</th>\n",
       "      <td>0.332741</td>\n",
       "      <td>0.318044</td>\n",
       "      <td>0.019224</td>\n",
       "      <td>0.001207</td>\n",
       "    </tr>\n",
       "  </tbody>\n",
       "</table>\n",
       "</div>"
      ],
      "text/plain": [
       "   taux_de_ventes  croissance_vente  ratio_benefice  ratio_perte\n",
       "1        0.365416          0.027132        0.451503     0.448197\n",
       "2        0.250608          0.573645        0.972394     0.591484\n",
       "4        0.841156          0.400608        0.343085     0.633722\n",
       "5        0.018305          0.972940        0.054308     0.965794\n",
       "7        0.679245          0.229705        0.880631     0.746072\n",
       "8        0.332741          0.318044        0.019224     0.001207"
      ]
     },
     "execution_count": 50,
     "metadata": {},
     "output_type": "execute_result"
    }
   ],
   "source": [
    "# IDEM VERSION1 détaillée\n",
    "data = np.random.rand(6,4)\n",
    "c =['taux_de_ventes','croissance_vente','ratio_benefice','ratio_perte']\n",
    "idx =[1, 2, 4, 5, 7, 8]\n",
    "bibliotheque = pd.DataFrame(data, columns=c,index= idx)\n",
    "bibliotheque"
   ]
  },
  {
   "cell_type": "markdown",
   "metadata": {},
   "source": [
    "# dataset.isnull()"
   ]
  },
  {
   "cell_type": "code",
   "execution_count": 49,
   "metadata": {},
   "outputs": [
    {
     "name": "stdout",
     "output_type": "stream",
     "text": [
      "   taux_de_ventes  croissance_vente  ratio_benefice  ratio_perte\n",
      "1            True              True            True         True\n",
      "2            True              True            True         True\n",
      "3            True              True            True         True\n",
      "4            True              True            True         True\n",
      "5            True              True            True         True\n",
      "6            True              True            True         True\n",
      "7            True              True            True         True\n",
      "8            True              True            True         True\n"
     ]
    }
   ],
   "source": [
    "var = bibliotheque.isnull()\n",
    "print(var)"
   ]
  },
  {
   "cell_type": "code",
   "execution_count": 8,
   "metadata": {},
   "outputs": [
    {
     "name": "stdout",
     "output_type": "stream",
     "text": [
      "Empty DataFrame\n",
      "Columns: [taux_de_ventes, croissance_vente, ratio_benefice, ratio_perte]\n",
      "Index: []\n"
     ]
    },
    {
     "data": {
      "text/html": [
       "<div>\n",
       "<style scoped>\n",
       "    .dataframe tbody tr th:only-of-type {\n",
       "        vertical-align: middle;\n",
       "    }\n",
       "\n",
       "    .dataframe tbody tr th {\n",
       "        vertical-align: top;\n",
       "    }\n",
       "\n",
       "    .dataframe thead th {\n",
       "        text-align: right;\n",
       "    }\n",
       "</style>\n",
       "<table border=\"1\" class=\"dataframe\">\n",
       "  <thead>\n",
       "    <tr style=\"text-align: right;\">\n",
       "      <th></th>\n",
       "      <th>taux_de_ventes</th>\n",
       "      <th>croissance_vente</th>\n",
       "      <th>ratio_benefice</th>\n",
       "      <th>ratio_perte</th>\n",
       "    </tr>\n",
       "  </thead>\n",
       "  <tbody>\n",
       "    <tr>\n",
       "      <th>1</th>\n",
       "      <td>0.814666</td>\n",
       "      <td>0.289745</td>\n",
       "      <td>0.837581</td>\n",
       "      <td>0.789505</td>\n",
       "    </tr>\n",
       "    <tr>\n",
       "      <th>2</th>\n",
       "      <td>0.602587</td>\n",
       "      <td>0.991605</td>\n",
       "      <td>0.437566</td>\n",
       "      <td>0.423612</td>\n",
       "    </tr>\n",
       "    <tr>\n",
       "      <th>4</th>\n",
       "      <td>0.115599</td>\n",
       "      <td>0.423283</td>\n",
       "      <td>0.632233</td>\n",
       "      <td>0.218906</td>\n",
       "    </tr>\n",
       "    <tr>\n",
       "      <th>5</th>\n",
       "      <td>0.939360</td>\n",
       "      <td>0.924722</td>\n",
       "      <td>0.763357</td>\n",
       "      <td>0.905397</td>\n",
       "    </tr>\n",
       "    <tr>\n",
       "      <th>7</th>\n",
       "      <td>0.534400</td>\n",
       "      <td>0.600173</td>\n",
       "      <td>0.958004</td>\n",
       "      <td>0.800265</td>\n",
       "    </tr>\n",
       "    <tr>\n",
       "      <th>8</th>\n",
       "      <td>0.747436</td>\n",
       "      <td>0.393432</td>\n",
       "      <td>0.552284</td>\n",
       "      <td>0.892825</td>\n",
       "    </tr>\n",
       "  </tbody>\n",
       "</table>\n",
       "</div>"
      ],
      "text/plain": [
       "   taux_de_ventes  croissance_vente  ratio_benefice  ratio_perte\n",
       "1        0.814666          0.289745        0.837581     0.789505\n",
       "2        0.602587          0.991605        0.437566     0.423612\n",
       "4        0.115599          0.423283        0.632233     0.218906\n",
       "5        0.939360          0.924722        0.763357     0.905397\n",
       "7        0.534400          0.600173        0.958004     0.800265\n",
       "8        0.747436          0.393432        0.552284     0.892825"
      ]
     },
     "execution_count": 8,
     "metadata": {},
     "output_type": "execute_result"
    }
   ],
   "source": [
    "var2 = bibliotheque[var.any(axis=1)] #verifie les valeurs où il y a le true\n",
    "print(var2)\n",
    "bibliotheque.fillna(0)"
   ]
  },
  {
   "cell_type": "markdown",
   "metadata": {},
   "source": [
    "# III - TRAITEMENT DES DONNEES"
   ]
  },
  {
   "cell_type": "code",
   "execution_count": 14,
   "metadata": {},
   "outputs": [],
   "source": [
    "import scipy as sp\n",
    "import pandas as pd\n",
    "import numpy as np\n",
    "import matplotlib.pyplot as plt\n",
    "from sklearn.impute import SimpleImputer\n",
    "from sklearn.preprocessing import LabelEncoder, OneHotEncoder\n",
    "from sklearn.model_selection import train_test_split\n",
    "from sklearn.preprocessing import StandardScaler\n",
    "from sklearn import linear_model\n",
    "from sklearn.metrics import mean_squared_error\n",
    "from sklearn.model_selection import cross_val_score, train_test_split, GridSearchCV"
   ]
  },
  {
   "cell_type": "code",
   "execution_count": 15,
   "metadata": {
    "scrolled": true
   },
   "outputs": [
    {
     "data": {
      "text/html": [
       "<div>\n",
       "<style scoped>\n",
       "    .dataframe tbody tr th:only-of-type {\n",
       "        vertical-align: middle;\n",
       "    }\n",
       "\n",
       "    .dataframe tbody tr th {\n",
       "        vertical-align: top;\n",
       "    }\n",
       "\n",
       "    .dataframe thead th {\n",
       "        text-align: right;\n",
       "    }\n",
       "</style>\n",
       "<table border=\"1\" class=\"dataframe\">\n",
       "  <thead>\n",
       "    <tr style=\"text-align: right;\">\n",
       "      <th></th>\n",
       "      <th>ID_NOM</th>\n",
       "      <th>Niv_Etude_Bac</th>\n",
       "      <th>age</th>\n",
       "      <th>contrat_de_travail</th>\n",
       "      <th>Salaire</th>\n",
       "      <th>dette_anterieure</th>\n",
       "      <th>etat_civile</th>\n",
       "      <th>apport</th>\n",
       "      <th>enfant_a_Charge</th>\n",
       "      <th>Solvable</th>\n",
       "    </tr>\n",
       "  </thead>\n",
       "  <tbody>\n",
       "    <tr>\n",
       "      <th>0</th>\n",
       "      <td>jean</td>\n",
       "      <td>3.0</td>\n",
       "      <td>45</td>\n",
       "      <td>CDI</td>\n",
       "      <td>40000</td>\n",
       "      <td>4000</td>\n",
       "      <td>M</td>\n",
       "      <td>0.3</td>\n",
       "      <td>3.0</td>\n",
       "      <td>OUI</td>\n",
       "    </tr>\n",
       "    <tr>\n",
       "      <th>1</th>\n",
       "      <td>VANESSA</td>\n",
       "      <td>5.0</td>\n",
       "      <td>28</td>\n",
       "      <td>CDI</td>\n",
       "      <td>30500</td>\n",
       "      <td>1320</td>\n",
       "      <td>M</td>\n",
       "      <td>0.1</td>\n",
       "      <td>0.0</td>\n",
       "      <td>OUI</td>\n",
       "    </tr>\n",
       "    <tr>\n",
       "      <th>2</th>\n",
       "      <td>TARCISSE</td>\n",
       "      <td>0.0</td>\n",
       "      <td>55</td>\n",
       "      <td>CDI</td>\n",
       "      <td>28000</td>\n",
       "      <td>40000</td>\n",
       "      <td>C</td>\n",
       "      <td>0.0</td>\n",
       "      <td>0.0</td>\n",
       "      <td>NON</td>\n",
       "    </tr>\n",
       "    <tr>\n",
       "      <th>3</th>\n",
       "      <td>TIBAULT</td>\n",
       "      <td>4.0</td>\n",
       "      <td>23</td>\n",
       "      <td>CDD</td>\n",
       "      <td>15000</td>\n",
       "      <td>0</td>\n",
       "      <td>M</td>\n",
       "      <td>0.1</td>\n",
       "      <td>NaN</td>\n",
       "      <td>OUI</td>\n",
       "    </tr>\n",
       "    <tr>\n",
       "      <th>4</th>\n",
       "      <td>GILES</td>\n",
       "      <td>0.0</td>\n",
       "      <td>33</td>\n",
       "      <td>CDD</td>\n",
       "      <td>27000</td>\n",
       "      <td>3000</td>\n",
       "      <td>C</td>\n",
       "      <td>0.1</td>\n",
       "      <td>2.0</td>\n",
       "      <td>NON</td>\n",
       "    </tr>\n",
       "    <tr>\n",
       "      <th>5</th>\n",
       "      <td>ETHAN</td>\n",
       "      <td>0.0</td>\n",
       "      <td>41</td>\n",
       "      <td>INTERIM</td>\n",
       "      <td>40000</td>\n",
       "      <td>1000</td>\n",
       "      <td>M</td>\n",
       "      <td>0.0</td>\n",
       "      <td>4.0</td>\n",
       "      <td>NON</td>\n",
       "    </tr>\n",
       "    <tr>\n",
       "      <th>6</th>\n",
       "      <td>LILIANE</td>\n",
       "      <td>-1.0</td>\n",
       "      <td>29</td>\n",
       "      <td>CDI</td>\n",
       "      <td>50000</td>\n",
       "      <td>3000</td>\n",
       "      <td>C</td>\n",
       "      <td>0.0</td>\n",
       "      <td>0.0</td>\n",
       "      <td>NON</td>\n",
       "    </tr>\n",
       "    <tr>\n",
       "      <th>7</th>\n",
       "      <td>GLODI</td>\n",
       "      <td>-3.0</td>\n",
       "      <td>24</td>\n",
       "      <td>INTERIM</td>\n",
       "      <td>29000</td>\n",
       "      <td>5000</td>\n",
       "      <td>C</td>\n",
       "      <td>0.0</td>\n",
       "      <td>0.0</td>\n",
       "      <td>NON</td>\n",
       "    </tr>\n",
       "    <tr>\n",
       "      <th>8</th>\n",
       "      <td>FLORIANE</td>\n",
       "      <td>NaN</td>\n",
       "      <td>26</td>\n",
       "      <td>CDI</td>\n",
       "      <td>44000</td>\n",
       "      <td>0</td>\n",
       "      <td>M</td>\n",
       "      <td>0.1</td>\n",
       "      <td>1.0</td>\n",
       "      <td>OUI</td>\n",
       "    </tr>\n",
       "    <tr>\n",
       "      <th>9</th>\n",
       "      <td>MARIE</td>\n",
       "      <td>3.0</td>\n",
       "      <td>37</td>\n",
       "      <td>CDI</td>\n",
       "      <td>45800</td>\n",
       "      <td>2000</td>\n",
       "      <td>M</td>\n",
       "      <td>0.2</td>\n",
       "      <td>2.0</td>\n",
       "      <td>OUI</td>\n",
       "    </tr>\n",
       "    <tr>\n",
       "      <th>10</th>\n",
       "      <td>BAKAMBU</td>\n",
       "      <td>2.0</td>\n",
       "      <td>40</td>\n",
       "      <td>CDI</td>\n",
       "      <td>60000</td>\n",
       "      <td>1500</td>\n",
       "      <td>M</td>\n",
       "      <td>0.3</td>\n",
       "      <td>3.0</td>\n",
       "      <td>OUI</td>\n",
       "    </tr>\n",
       "    <tr>\n",
       "      <th>11</th>\n",
       "      <td>FATOU</td>\n",
       "      <td>0.0</td>\n",
       "      <td>38</td>\n",
       "      <td>CDD</td>\n",
       "      <td>26000</td>\n",
       "      <td>8000</td>\n",
       "      <td>C</td>\n",
       "      <td>0.4</td>\n",
       "      <td>0.0</td>\n",
       "      <td>NON</td>\n",
       "    </tr>\n",
       "    <tr>\n",
       "      <th>12</th>\n",
       "      <td>WUAN</td>\n",
       "      <td>-3.0</td>\n",
       "      <td>39</td>\n",
       "      <td>INTERIM</td>\n",
       "      <td>29000</td>\n",
       "      <td>4900</td>\n",
       "      <td>M</td>\n",
       "      <td>0.0</td>\n",
       "      <td>1.0</td>\n",
       "      <td>NON</td>\n",
       "    </tr>\n",
       "    <tr>\n",
       "      <th>13</th>\n",
       "      <td>HUGO</td>\n",
       "      <td>0.0</td>\n",
       "      <td>31</td>\n",
       "      <td>CDI</td>\n",
       "      <td>43000</td>\n",
       "      <td>100000</td>\n",
       "      <td>M</td>\n",
       "      <td>0.2</td>\n",
       "      <td>2.0</td>\n",
       "      <td>NON</td>\n",
       "    </tr>\n",
       "    <tr>\n",
       "      <th>14</th>\n",
       "      <td>JOSEPH</td>\n",
       "      <td>1.0</td>\n",
       "      <td>70</td>\n",
       "      <td>CDD</td>\n",
       "      <td>45000</td>\n",
       "      <td>17000</td>\n",
       "      <td>C</td>\n",
       "      <td>0.3</td>\n",
       "      <td>0.0</td>\n",
       "      <td>NON</td>\n",
       "    </tr>\n",
       "    <tr>\n",
       "      <th>15</th>\n",
       "      <td>DIANE</td>\n",
       "      <td>0.0</td>\n",
       "      <td>42</td>\n",
       "      <td>ENTRPRENEUR</td>\n",
       "      <td>70000</td>\n",
       "      <td>26000</td>\n",
       "      <td>M</td>\n",
       "      <td>0.2</td>\n",
       "      <td>0.0</td>\n",
       "      <td>NON</td>\n",
       "    </tr>\n",
       "    <tr>\n",
       "      <th>16</th>\n",
       "      <td>FENG</td>\n",
       "      <td>8.0</td>\n",
       "      <td>46</td>\n",
       "      <td>CDI</td>\n",
       "      <td>80000</td>\n",
       "      <td>8000</td>\n",
       "      <td>M</td>\n",
       "      <td>0.0</td>\n",
       "      <td>3.0</td>\n",
       "      <td>OUI</td>\n",
       "    </tr>\n",
       "    <tr>\n",
       "      <th>17</th>\n",
       "      <td>FRICHET</td>\n",
       "      <td>3.0</td>\n",
       "      <td>23</td>\n",
       "      <td>CDI</td>\n",
       "      <td>100000</td>\n",
       "      <td>0</td>\n",
       "      <td>M</td>\n",
       "      <td>0.3</td>\n",
       "      <td>1.0</td>\n",
       "      <td>OUI</td>\n",
       "    </tr>\n",
       "    <tr>\n",
       "      <th>18</th>\n",
       "      <td>HOLLANDE</td>\n",
       "      <td>4.0</td>\n",
       "      <td>32</td>\n",
       "      <td>CDI</td>\n",
       "      <td>21000</td>\n",
       "      <td>1200</td>\n",
       "      <td>M</td>\n",
       "      <td>0.1</td>\n",
       "      <td>2.0</td>\n",
       "      <td>OUI</td>\n",
       "    </tr>\n",
       "  </tbody>\n",
       "</table>\n",
       "</div>"
      ],
      "text/plain": [
       "      ID_NOM  Niv_Etude_Bac  age contrat_de_travail  Salaire  \\\n",
       "0       jean            3.0   45                CDI    40000   \n",
       "1    VANESSA            5.0   28                CDI    30500   \n",
       "2   TARCISSE            0.0   55                CDI    28000   \n",
       "3    TIBAULT            4.0   23                CDD    15000   \n",
       "4      GILES            0.0   33                CDD    27000   \n",
       "5      ETHAN            0.0   41            INTERIM    40000   \n",
       "6    LILIANE           -1.0   29                CDI    50000   \n",
       "7      GLODI           -3.0   24            INTERIM    29000   \n",
       "8   FLORIANE            NaN   26                CDI    44000   \n",
       "9      MARIE            3.0   37                CDI    45800   \n",
       "10   BAKAMBU            2.0   40                CDI    60000   \n",
       "11     FATOU            0.0   38                CDD    26000   \n",
       "12      WUAN           -3.0   39            INTERIM    29000   \n",
       "13      HUGO            0.0   31                CDI    43000   \n",
       "14    JOSEPH            1.0   70                CDD    45000   \n",
       "15     DIANE            0.0   42        ENTRPRENEUR    70000   \n",
       "16      FENG            8.0   46                CDI    80000   \n",
       "17   FRICHET            3.0   23                CDI   100000   \n",
       "18  HOLLANDE            4.0   32                CDI    21000   \n",
       "\n",
       "    dette_anterieure etat_civile  apport  enfant_a_Charge Solvable  \n",
       "0               4000           M     0.3              3.0      OUI  \n",
       "1               1320           M     0.1              0.0      OUI  \n",
       "2              40000           C     0.0              0.0      NON  \n",
       "3                  0           M     0.1              NaN      OUI  \n",
       "4               3000           C     0.1              2.0      NON  \n",
       "5               1000           M     0.0              4.0      NON  \n",
       "6               3000           C     0.0              0.0      NON  \n",
       "7               5000           C     0.0              0.0      NON  \n",
       "8                  0           M     0.1              1.0      OUI  \n",
       "9               2000           M     0.2              2.0      OUI  \n",
       "10              1500           M     0.3              3.0      OUI  \n",
       "11              8000           C     0.4              0.0      NON  \n",
       "12              4900           M     0.0              1.0      NON  \n",
       "13            100000           M     0.2              2.0      NON  \n",
       "14             17000           C     0.3              0.0      NON  \n",
       "15             26000           M     0.2              0.0      NON  \n",
       "16              8000           M     0.0              3.0      OUI  \n",
       "17                 0           M     0.3              1.0      OUI  \n",
       "18              1200           M     0.1              2.0      OUI  "
      ]
     },
     "execution_count": 15,
     "metadata": {},
     "output_type": "execute_result"
    }
   ],
   "source": [
    "credit_immo = pd.read_csv('./credit_immo.csv', sep = \",\")\n",
    "credit_immo"
   ]
  },
  {
   "cell_type": "markdown",
   "metadata": {},
   "source": [
    "### Après avoir converti les données du dataframe en matrice, on le rend exploitable grace aux SimpleImputer et aux LabelEncoder\n",
    "On commence par remplacer toutes les valeurs manquantes en données numériques (cad les colonnes \"études bac\" et \"enfants à charge\") selon la stratégie décidée . Dans ce cas, la moyenne est la statégie retenue.\n",
    "Ensuite,on donnera un code aux variables qualitatives ( cad les colonnes 'contrat de travail' et 'état civil' )"
   ]
  },
  {
   "cell_type": "markdown",
   "metadata": {},
   "source": [
    "#### on cherche à savoir si le client est solvable en fonction des autres critères "
   ]
  },
  {
   "cell_type": "code",
   "execution_count": 16,
   "metadata": {},
   "outputs": [
    {
     "name": "stdout",
     "output_type": "stream",
     "text": [
      "['OUI' 'OUI' 'NON' 'OUI' 'NON' 'NON' 'NON' 'NON' 'OUI' 'OUI' 'OUI' 'NON'\n",
      " 'NON' 'NON' 'NON' 'NON' 'OUI' 'OUI' 'OUI']\n"
     ]
    }
   ],
   "source": [
    "# on stock les variables dans le vecteur Y (matice avec 1 colonne et n lignes)ici nous prenons la dernière valeur à savoir la solvabilité  iloc premet d'extraire les données de la liste\n",
    "Y = credit_immo.iloc[:,-1].values \n",
    "print(Y)"
   ]
  },
  {
   "cell_type": "code",
   "execution_count": 17,
   "metadata": {},
   "outputs": [
    {
     "name": "stdout",
     "output_type": "stream",
     "text": [
      "[[3.0 45 'CDI' 40000 4000 'M' 0.3 3.0]\n",
      " [5.0 28 'CDI' 30500 1320 'M' 0.1 0.0]\n",
      " [0.0 55 'CDI' 28000 40000 'C' 0.0 0.0]\n",
      " [4.0 23 'CDD' 15000 0 'M' 0.1 nan]\n",
      " [0.0 33 'CDD' 27000 3000 'C' 0.1 2.0]\n",
      " [0.0 41 'INTERIM' 40000 1000 'M' 0.0 4.0]\n",
      " [-1.0 29 'CDI' 50000 3000 'C' 0.0 0.0]\n",
      " [-3.0 24 'INTERIM' 29000 5000 'C' 0.0 0.0]\n",
      " [nan 26 'CDI' 44000 0 'M' 0.1 1.0]\n",
      " [3.0 37 'CDI' 45800 2000 'M' 0.2 2.0]\n",
      " [2.0 40 'CDI' 60000 1500 'M' 0.3 3.0]\n",
      " [0.0 38 'CDD' 26000 8000 'C' 0.4 0.0]\n",
      " [-3.0 39 'INTERIM' 29000 4900 'M' 0.0 1.0]\n",
      " [0.0 31 'CDI' 43000 100000 'M' 0.2 2.0]\n",
      " [1.0 70 'CDD' 45000 17000 'C' 0.3 0.0]\n",
      " [0.0 42 'ENTRPRENEUR' 70000 26000 'M' 0.2 0.0]\n",
      " [8.0 46 'CDI' 80000 8000 'M' 0.0 3.0]\n",
      " [3.0 23 'CDI' 100000 0 'M' 0.3 1.0]\n",
      " [4.0 32 'CDI' 21000 1200 'M' 0.1 2.0]]\n"
     ]
    }
   ],
   "source": [
    "# on récupere les X (matrice qui regroupe toutes les colonnes)\n",
    "X = credit_immo.iloc[:,-9:-1].values\n",
    "print(X)"
   ]
  },
  {
   "cell_type": "markdown",
   "metadata": {},
   "source": [
    "## SimpleImputer  : Transformer les valeurs manquantes en moyenne "
   ]
  },
  {
   "cell_type": "markdown",
   "metadata": {},
   "source": [
    "Qu’est ce qu’une donnée manquante?\n",
    "\n",
    "Les algorithmes de Machine Learning prennent les données d’entrée (input Data) sous forme matricielle, chaque ligne est une observation, et chaque colonne représente une caractéristique (feature) de l’indivu (son salaire, appartenance politique etc…).\n",
    "\n",
    "On dit qu’une observation (ligne de la matrice de données) comporte une donnée manquante s’il existe une feature pour laquelle sa valeur n’est pas renseignée. Evidemment, on peut avoir plusieurs données manquantes pour une même observation."
   ]
  },
  {
   "cell_type": "markdown",
   "metadata": {},
   "source": [
    "##### Etudes bac"
   ]
  },
  {
   "cell_type": "code",
   "execution_count": 18,
   "metadata": {},
   "outputs": [
    {
     "name": "stdout",
     "output_type": "stream",
     "text": [
      "[3.0 5.0 0.0 4.0 0.0 0.0 -1.0 -3.0 nan 3.0 2.0 0.0 -3.0 0.0 1.0 0.0 8.0\n",
      " 3.0 4.0]\n"
     ]
    }
   ],
   "source": [
    "#on affiche la colonne de X -> études bac\n",
    "x = X[:,0]\n",
    "print(x) "
   ]
  },
  {
   "cell_type": "code",
   "execution_count": 19,
   "metadata": {},
   "outputs": [
    {
     "name": "stdout",
     "output_type": "stream",
     "text": [
      "[[3.0]\n",
      " [5.0]\n",
      " [0.0]\n",
      " [4.0]\n",
      " [0.0]\n",
      " [0.0]\n",
      " [-1.0]\n",
      " [-3.0]\n",
      " [1.4444444444444444]\n",
      " [3.0]\n",
      " [2.0]\n",
      " [0.0]\n",
      " [-3.0]\n",
      " [0.0]\n",
      " [1.0]\n",
      " [0.0]\n",
      " [8.0]\n",
      " [3.0]\n",
      " [4.0]]\n"
     ]
    }
   ],
   "source": [
    "# On remplace les \"nan\" par la moyenne des données de la colonne\n",
    "\n",
    "imptr = SimpleImputer(missing_values=np.nan, strategy='mean')\n",
    "\n",
    "#Adapter le model aux données \n",
    "imptr.fit(X[:,0:1])\n",
    "\n",
    "\n",
    "#Adapter le model aux données transformer les nan en moyenne et les stocker dans X\n",
    "\n",
    "X[:,0:1] = imptr.transform(X[:,0:1])\n",
    "\n",
    "print(X[:,0:1])"
   ]
  },
  {
   "cell_type": "markdown",
   "metadata": {},
   "source": [
    "##### idem avec les enfants à charges"
   ]
  },
  {
   "cell_type": "code",
   "execution_count": 20,
   "metadata": {},
   "outputs": [
    {
     "name": "stdout",
     "output_type": "stream",
     "text": [
      "[3.0 0.0 0.0 nan 2.0 4.0 0.0 0.0 1.0 2.0 3.0 0.0 1.0 2.0 0.0 0.0 3.0 1.0\n",
      " 2.0]\n"
     ]
    }
   ],
   "source": [
    "#on affiche la  colonne de X -> enfants à charges\n",
    "x1 = X[:,-1]\n",
    "print(x1)"
   ]
  },
  {
   "cell_type": "code",
   "execution_count": 21,
   "metadata": {},
   "outputs": [
    {
     "name": "stdout",
     "output_type": "stream",
     "text": [
      "[[3.0]\n",
      " [0.0]\n",
      " [0.0]\n",
      " [1.3333333333333333]\n",
      " [2.0]\n",
      " [4.0]\n",
      " [0.0]\n",
      " [0.0]\n",
      " [1.0]\n",
      " [2.0]\n",
      " [3.0]\n",
      " [0.0]\n",
      " [1.0]\n",
      " [2.0]\n",
      " [0.0]\n",
      " [0.0]\n",
      " [3.0]\n",
      " [1.0]\n",
      " [2.0]]\n"
     ]
    }
   ],
   "source": [
    "imptr=SimpleImputer(missing_values=np.nan, strategy='mean')\n",
    "\n",
    "#Adapter le model aux données \n",
    "imptr.fit(X[:,-1:])\n",
    "\n",
    "\n",
    "#Adapter le model aux données transformer les nan en moyenne et les stocker dans X\n",
    "\n",
    "X[:,-1:] = imptr.transform(X[:,-1:])\n",
    "\n",
    "print(X[:,-1:])"
   ]
  },
  {
   "cell_type": "markdown",
   "metadata": {},
   "source": [
    "## LabelEncoder :  Encoder les valeurs catégoriques"
   ]
  },
  {
   "cell_type": "markdown",
   "metadata": {},
   "source": [
    "##### Contrat de travail"
   ]
  },
  {
   "cell_type": "code",
   "execution_count": 22,
   "metadata": {},
   "outputs": [
    {
     "name": "stdout",
     "output_type": "stream",
     "text": [
      "['CDI' 'CDI' 'CDI' 'CDD' 'CDD' 'INTERIM' 'CDI' 'INTERIM' 'CDI' 'CDI' 'CDI'\n",
      " 'CDD' 'INTERIM' 'CDI' 'CDD' 'ENTRPRENEUR' 'CDI' 'CDI' 'CDI']\n",
      "***************\n",
      "[1 1 1 0 0 3 1 3 1 1 1 0 3 1 0 2 1 1 1]\n"
     ]
    }
   ],
   "source": [
    "##Méthode 1 avec LabelEncoder-> on donne un code aux variables qualitatives \n",
    "\n",
    "LabEnc_X = LabelEncoder()\n",
    "\n",
    "print(X[:,2])\n",
    "#Encodage de la colonne 2 du tableau qui est catégorielle --> 4 catégories donc 0, 1, 2 et 3 \n",
    "X[:,2]=LabEnc_X.fit_transform(X[:,2])\n",
    "print(\"***************\")\n",
    "print(X[:,2])"
   ]
  },
  {
   "cell_type": "markdown",
   "metadata": {},
   "source": [
    "##### Etat civil"
   ]
  },
  {
   "cell_type": "code",
   "execution_count": 23,
   "metadata": {},
   "outputs": [
    {
     "name": "stdout",
     "output_type": "stream",
     "text": [
      "['M' 'M' 'C' 'M' 'C' 'M' 'C' 'C' 'M' 'M' 'M' 'C' 'M' 'M' 'C' 'M' 'M' 'M'\n",
      " 'M']\n",
      "***************\n",
      "[1 1 0 1 0 1 0 0 1 1 1 0 1 1 0 1 1 1 1]\n"
     ]
    }
   ],
   "source": [
    "\n",
    "LabEnc_X = LabelEncoder()\n",
    "\n",
    "print(X[:,5])\n",
    "#Encodage de la colonne 5 du tableau qui est catégorielle --> 2 catégories donc 0 et 1\n",
    "X[:,5]=LabEnc_X.fit_transform(X[:,5])\n",
    "print(\"***************\")\n",
    "print(X[:,5])"
   ]
  },
  {
   "cell_type": "markdown",
   "metadata": {},
   "source": [
    "## Fractionner le jeu de données pour l’entrainement et le test (Training and Test set)."
   ]
  },
  {
   "cell_type": "code",
   "execution_count": 24,
   "metadata": {},
   "outputs": [
    {
     "name": "stdout",
     "output_type": "stream",
     "text": [
      "(15, 8) (4, 8) (15,) (4,)\n"
     ]
    }
   ],
   "source": [
    "X_app,X_test,Y_app,Y_test = train_test_split(X,Y,test_size= 0.2,random_state=0)\n",
    "print(X_app.shape,X_test.shape,Y_app.shape,Y_test.shape)"
   ]
  },
  {
   "cell_type": "markdown",
   "metadata": {},
   "source": [
    "### mise à l’échelle des features (StandardScaler)."
   ]
  },
  {
   "cell_type": "markdown",
   "metadata": {},
   "source": [
    "###### on essaye d'uniformiser toutes les variables pour qu'elles suivent toutes la loi normale (stander scaler)\n",
    "dans l'idéal il faut que la moyenne soit = o et l'écart type = 1 (la mesure de dispersion des variables)"
   ]
  },
  {
   "cell_type": "code",
   "execution_count": 25,
   "metadata": {},
   "outputs": [
    {
     "name": "stdout",
     "output_type": "stream",
     "text": [
      "[[2.0 40 1 60000 1500 1 0.3 3.0]\n",
      " [5.0 28 1 30500 1320 1 0.1 0.0]\n",
      " [1.4444444444444444 26 1 44000 0 1 0.1 1.0]\n",
      " [4.0 32 1 21000 1200 1 0.1 2.0]]\n",
      "=====================================\n",
      "[[-0.76809537  1.58525817  0.          1.43888423  0.83901318  0.\n",
      "   1.73205081  1.34164079]\n",
      " [ 1.30576213 -0.65275337  0.         -0.57044523  0.53391748  0.\n",
      "  -0.57735027 -1.34164079]\n",
      " [-1.15214306 -1.02575529  0.          0.34907842 -1.703451    0.\n",
      "  -0.57735027 -0.4472136 ]\n",
      " [ 0.6144763   0.09325048  0.         -1.21751742  0.33052034  0.\n",
      "  -0.57735027  0.4472136 ]]\n"
     ]
    }
   ],
   "source": [
    "#Normalisation des valeurs de X\n",
    "scaler = StandardScaler()\n",
    "\n",
    "print(X_test)\n",
    "\n",
    "\n",
    "X_test = scaler.fit_transform(X_test)\n",
    "print(\"=====================================\")\n",
    "print(X_test)\n"
   ]
  },
  {
   "cell_type": "markdown",
   "metadata": {},
   "source": [
    "# IV- VISUALISATION DES DONNEES"
   ]
  },
  {
   "cell_type": "code",
   "execution_count": 3,
   "metadata": {},
   "outputs": [],
   "source": [
    "import pandas as pd\n",
    "import matplotlib.pyplot as plt\n",
    "import numpy as np\n",
    "import scipy as sp"
   ]
  },
  {
   "cell_type": "code",
   "execution_count": 4,
   "metadata": {},
   "outputs": [
    {
     "name": "stdout",
     "output_type": "stream",
     "text": [
      "    Montant_du_capitale  Temps\n",
      "0                     1      5\n",
      "1                    12      6\n",
      "2                    13      7\n",
      "3                     2      8\n",
      "4                     3      9\n",
      "5                     0     10\n",
      "6                     1     11\n",
      "7                     6     12\n",
      "8                     7     13\n",
      "9                     4     14\n",
      "10                    5     15\n",
      "11                   26     16\n",
      "12                   27     17\n",
      "13                   24     18\n",
      "14                   25     19\n",
      "15                   30     20\n",
      "16                   31     21\n",
      "17                   28     22\n",
      "18                   29     23\n",
      "19                   18     24\n",
      "20                   19     25\n",
      "21                   16     26\n",
      "22                   17     27\n",
      "23                   22     28\n",
      "24                   23     29\n",
      "25                   20     30\n",
      "26                   21     31\n",
      "27                   42     32\n",
      "28                   43     33\n",
      "29                   40     34\n",
      "30                   41     35\n",
      "31                   46     36\n",
      "32                   47     37\n",
      "33                   44     38\n",
      "34                   45     39\n",
      "35                   34     40\n",
      "36                   35     41\n",
      "37                   32     42\n",
      "38                   33     43\n",
      "39                   38     44\n",
      "40                   39     45\n",
      "41                   36     46\n",
      "42                   37     47\n",
      "43                   58     48\n",
      "44                   59     49\n",
      "(45, 2)\n"
     ]
    }
   ],
   "source": [
    "Montant_Temps = pd.read_csv('./Montant_Temps.csv', sep = \",\")\n",
    "df = Montant_Temps\n",
    "print(df)\n",
    "print(df.shape)"
   ]
  },
  {
   "cell_type": "code",
   "execution_count": 5,
   "metadata": {},
   "outputs": [
    {
     "name": "stdout",
     "output_type": "stream",
     "text": [
      "[ 1 12 13  2  3  0  1  6  7  4  5 26 27 24 25 30 31 28 29 18 19 16 17 22\n",
      " 23 20 21 42 43 40 41 46 47 44 45 34 35 32 33 38 39 36 37 58 59]\n"
     ]
    }
   ],
   "source": [
    "# on stock les variables dans le vecteur Y (matrice avec 1 colonne et n lignes) => capital\n",
    "Y = df.iloc[:,0].values \n",
    "print(Y)"
   ]
  },
  {
   "cell_type": "code",
   "execution_count": 6,
   "metadata": {},
   "outputs": [
    {
     "name": "stdout",
     "output_type": "stream",
     "text": [
      "[ 5  6  7  8  9 10 11 12 13 14 15 16 17 18 19 20 21 22 23 24 25 26 27 28\n",
      " 29 30 31 32 33 34 35 36 37 38 39 40 41 42 43 44 45 46 47 48 49]\n"
     ]
    }
   ],
   "source": [
    "# on récupere les X (matrice qui regroupe toutes les colonnes) => temps\n",
    "X = df.iloc[:,1].values\n",
    "print(X)"
   ]
  },
  {
   "cell_type": "code",
   "execution_count": 55,
   "metadata": {},
   "outputs": [
    {
     "data": {
      "text/plain": [
       "[<matplotlib.lines.Line2D at 0x1cb10478c70>]"
      ]
     },
     "execution_count": 55,
     "metadata": {},
     "output_type": "execute_result"
    },
    {
     "data": {
      "image/png": "[encoded data removed]",
      "text/plain": [
       "<Figure size 432x288 with 1 Axes>"
      ]
     },
     "metadata": {
      "needs_background": "light"
     },
     "output_type": "display_data"
    }
   ],
   "source": [
    "plt.plot(X,Y)"
   ]
  },
  {
   "cell_type": "markdown",
   "metadata": {},
   "source": [
    "##### on remarque bien à travers ce graph que le capital évolue en fonction du temps"
   ]
  },
  {
   "cell_type": "markdown",
   "metadata": {},
   "source": [
    "### RAJOUTER DU STYLE AUX GRAPH => plusieurs essais pour découvrir"
   ]
  },
  {
   "cell_type": "code",
   "execution_count": 232,
   "metadata": {},
   "outputs": [
    {
     "data": {
      "text/plain": [
       "Text(0, 0.5, 'Montant du capital')"
      ]
     },
     "execution_count": 232,
     "metadata": {},
     "output_type": "execute_result"
    },
    {
     "data": {
      "image/png": "[encoded data removed]",
      "text/plain": [
       "<Figure size 432x288 with 1 Axes>"
      ]
     },
     "metadata": {
      "needs_background": "light"
     },
     "output_type": "display_data"
    }
   ],
   "source": [
    "plt.plot(X, Y, c=\"red\", lw=2, ls='--')\n",
    "plt.title('Evolution du capital en fonction du temps')\n",
    "plt.xlabel(\"Temps\")\n",
    "plt.ylabel(\"Montant du capital\")"
   ]
  },
  {
   "cell_type": "code",
   "execution_count": 56,
   "metadata": {},
   "outputs": [
    {
     "data": {
      "text/plain": [
       "[<matplotlib.lines.Line2D at 0x1cb10513d60>]"
      ]
     },
     "execution_count": 56,
     "metadata": {},
     "output_type": "execute_result"
    },
    {
     "data": {
      "image/png": "[encoded data removed]",
      "text/plain": [
       "<Figure size 864x576 with 1 Axes>"
      ]
     },
     "metadata": {
      "needs_background": "light"
     },
     "output_type": "display_data"
    }
   ],
   "source": [
    "plt.figure(figsize=(12,8))\n",
    "plt.title('Evolution du capital en fonction du temps')\n",
    "plt.xlabel(\"Temps\")\n",
    "plt.ylabel(\"Montant du capital\")\n",
    "plt.plot(X, Y)"
   ]
  },
  {
   "cell_type": "code",
   "execution_count": 246,
   "metadata": {},
   "outputs": [
    {
     "data": {
      "image/png": "[encoded data removed]",
      "text/plain": [
       "<Figure size 432x288 with 1 Axes>"
      ]
     },
     "metadata": {
      "needs_background": "light"
     },
     "output_type": "display_data"
    }
   ],
   "source": [
    "plt.figure()\n",
    "plt.plot(X, Y, label=\"quadratique\")\n",
    "plt.plot(x, x**3, label=\"cubique\")\n",
    "plt.title('figure1')\n",
    "plt.xlabel(\"axe X\")\n",
    "plt.ylabel(\"axe Y\")\n",
    "plt.legend()\n",
    "plt.show\n",
    "plt.savefig('figure.png')"
   ]
  },
  {
   "cell_type": "code",
   "execution_count": 184,
   "metadata": {},
   "outputs": [
    {
     "name": "stderr",
     "output_type": "stream",
     "text": [
      "<ipython-input-184-02129263bfaf>:3: MatplotlibDeprecationWarning: Adding an axes using the same arguments as a previous axes currently reuses the earlier instance.  In a future version, a new instance will always be created and returned.  Meanwhile, this warning can be suppressed, and the future behavior ensured, by passing a unique label to each axes instance.\n",
      "  plt.subplot(2, 1, 1)\n"
     ]
    },
    {
     "data": {
      "text/plain": [
       "<function matplotlib.pyplot.show(*args, **kw)>"
      ]
     },
     "execution_count": 184,
     "metadata": {},
     "output_type": "execute_result"
    },
    {
     "data": {
      "image/png": "[encoded data removed]",
      "text/plain": [
       "<Figure size 432x288 with 1 Axes>"
      ]
     },
     "metadata": {
      "needs_background": "light"
     },
     "output_type": "display_data"
    }
   ],
   "source": [
    "plt.figures()\n",
    "plt.subplot(2, 1, 1)\n",
    "plt.plot(X, Y)\n",
    "plt.subplot(2, 1, 1)\n",
    "plt.plot(X, Y, c='blue')\n",
    "plt.show"
   ]
  },
  {
   "cell_type": "markdown",
   "metadata": {},
   "source": [
    "### test nuage de point"
   ]
  },
  {
   "cell_type": "code",
   "execution_count": 13,
   "metadata": {},
   "outputs": [
    {
     "data": {
      "text/plain": [
       "Text(0.5, 1.0, 'Evolution du capital en fonction du temps')"
      ]
     },
     "execution_count": 13,
     "metadata": {},
     "output_type": "execute_result"
    },
    {
     "data": {
      "image/png": "[encoded data removed]",
      "text/plain": [
       "<Figure size 432x288 with 1 Axes>"
      ]
     },
     "metadata": {
      "needs_background": "light"
     },
     "output_type": "display_data"
    }
   ],
   "source": [
    "plt.scatter(X, Y, c=\"blue\", lw=3, ls='--')\n",
    "plt.xlabel(\"temps\")\n",
    "plt.ylabel(\"capital\")\n",
    "plt.title('Evolution du capital en fonction du temps')\n"
   ]
  },
  {
   "cell_type": "markdown",
   "metadata": {},
   "source": [
    "on constate bien que nos deux données sont correlées."
   ]
  },
  {
   "cell_type": "markdown",
   "metadata": {},
   "source": [
    "### tests perso"
   ]
  },
  {
   "cell_type": "markdown",
   "metadata": {},
   "source": [
    "correlation entre les différentes variables du jeu de données : nos données sont corrélées le montant du capital varie en fonction du temps\n",
    "\n",
    "une variable augmente lorsque l'autre augmente, mais que cette augmentation n'est pas constante, le coefficient de corrélation de Pearson est positif mais inférieur à +1. Dans ce cas, le coefficient de Spearman est lui toujours égal à +1."
   ]
  },
  {
   "cell_type": "code",
   "execution_count": 150,
   "metadata": {},
   "outputs": [
    {
     "data": {
      "text/html": [
       "<div>\n",
       "<style scoped>\n",
       "    .dataframe tbody tr th:only-of-type {\n",
       "        vertical-align: middle;\n",
       "    }\n",
       "\n",
       "    .dataframe tbody tr th {\n",
       "        vertical-align: top;\n",
       "    }\n",
       "\n",
       "    .dataframe thead th {\n",
       "        text-align: right;\n",
       "    }\n",
       "</style>\n",
       "<table border=\"1\" class=\"dataframe\">\n",
       "  <thead>\n",
       "    <tr style=\"text-align: right;\">\n",
       "      <th></th>\n",
       "      <th>Montant_du_capitale</th>\n",
       "      <th>Temps</th>\n",
       "    </tr>\n",
       "  </thead>\n",
       "  <tbody>\n",
       "    <tr>\n",
       "      <th>Montant_du_capitale</th>\n",
       "      <td>1.000000</td>\n",
       "      <td>0.852477</td>\n",
       "    </tr>\n",
       "    <tr>\n",
       "      <th>Temps</th>\n",
       "      <td>0.852477</td>\n",
       "      <td>1.000000</td>\n",
       "    </tr>\n",
       "  </tbody>\n",
       "</table>\n",
       "</div>"
      ],
      "text/plain": [
       "                     Montant_du_capitale     Temps\n",
       "Montant_du_capitale             1.000000  0.852477\n",
       "Temps                           0.852477  1.000000"
      ]
     },
     "execution_count": 150,
     "metadata": {},
     "output_type": "execute_result"
    }
   ],
   "source": [
    "df.corr()"
   ]
  },
  {
   "cell_type": "markdown",
   "metadata": {},
   "source": [
    "la covarriance entre deux variables du jeu de données."
   ]
  },
  {
   "cell_type": "code",
   "execution_count": 155,
   "metadata": {},
   "outputs": [
    {
     "data": {
      "text/plain": [
       "176.13636363636365"
      ]
     },
     "execution_count": 155,
     "metadata": {},
     "output_type": "execute_result"
    }
   ],
   "source": [
    "df.Montant_du_capitale.cov(df.Temps)"
   ]
  },
  {
   "cell_type": "code",
   "execution_count": 156,
   "metadata": {},
   "outputs": [
    {
     "data": {
      "text/plain": [
       "176.13636363636365"
      ]
     },
     "execution_count": 156,
     "metadata": {},
     "output_type": "execute_result"
    }
   ],
   "source": [
    "df.Temps.cov(df.Montant_du_capitale)"
   ]
  },
  {
   "cell_type": "markdown",
   "metadata": {},
   "source": [
    "https://medium.com/france-school-of-ai/data-visualization-en-python-avec-des-librairies-telles-que-matplotlib-et-seaborn-6811385df020"
   ]
  },
  {
   "cell_type": "markdown",
   "metadata": {},
   "source": [
    "# V- ANALYSES DE DONNEES"
   ]
  },
  {
   "cell_type": "code",
   "execution_count": 101,
   "metadata": {},
   "outputs": [],
   "source": [
    "import pandas as pd\n",
    "import matplotlib.pyplot as plt\n",
    "import numpy as np\n",
    "import scipy as sp"
   ]
  },
  {
   "cell_type": "markdown",
   "metadata": {},
   "source": [
    "### Mesure de tendance centrale"
   ]
  },
  {
   "cell_type": "code",
   "execution_count": 102,
   "metadata": {},
   "outputs": [
    {
     "data": {
      "text/html": [
       "<div>\n",
       "<style scoped>\n",
       "    .dataframe tbody tr th:only-of-type {\n",
       "        vertical-align: middle;\n",
       "    }\n",
       "\n",
       "    .dataframe tbody tr th {\n",
       "        vertical-align: top;\n",
       "    }\n",
       "\n",
       "    .dataframe thead th {\n",
       "        text-align: right;\n",
       "    }\n",
       "</style>\n",
       "<table border=\"1\" class=\"dataframe\">\n",
       "  <thead>\n",
       "    <tr style=\"text-align: right;\">\n",
       "      <th></th>\n",
       "      <th>Nom</th>\n",
       "      <th>Age</th>\n",
       "      <th>Rating</th>\n",
       "    </tr>\n",
       "  </thead>\n",
       "  <tbody>\n",
       "    <tr>\n",
       "      <th>0</th>\n",
       "      <td>ANATOLE</td>\n",
       "      <td>55</td>\n",
       "      <td>4.53</td>\n",
       "    </tr>\n",
       "    <tr>\n",
       "      <th>1</th>\n",
       "      <td>Vincent</td>\n",
       "      <td>59</td>\n",
       "      <td>3.54</td>\n",
       "    </tr>\n",
       "    <tr>\n",
       "      <th>2</th>\n",
       "      <td>Brenda</td>\n",
       "      <td>55</td>\n",
       "      <td>3.98</td>\n",
       "    </tr>\n",
       "    <tr>\n",
       "      <th>3</th>\n",
       "      <td>Philippe</td>\n",
       "      <td>53</td>\n",
       "      <td>5.59</td>\n",
       "    </tr>\n",
       "    <tr>\n",
       "      <th>4</th>\n",
       "      <td>Michel</td>\n",
       "      <td>30</td>\n",
       "      <td>3.50</td>\n",
       "    </tr>\n",
       "    <tr>\n",
       "      <th>5</th>\n",
       "      <td>Tillier</td>\n",
       "      <td>59</td>\n",
       "      <td>4.90</td>\n",
       "    </tr>\n",
       "    <tr>\n",
       "      <th>6</th>\n",
       "      <td>Blanchard</td>\n",
       "      <td>53</td>\n",
       "      <td>3.80</td>\n",
       "    </tr>\n",
       "    <tr>\n",
       "      <th>7</th>\n",
       "      <td>perez</td>\n",
       "      <td>34</td>\n",
       "      <td>3.78</td>\n",
       "    </tr>\n",
       "    <tr>\n",
       "      <th>8</th>\n",
       "      <td>théo</td>\n",
       "      <td>40</td>\n",
       "      <td>5.98</td>\n",
       "    </tr>\n",
       "    <tr>\n",
       "      <th>9</th>\n",
       "      <td>cyprien</td>\n",
       "      <td>30</td>\n",
       "      <td>4.80</td>\n",
       "    </tr>\n",
       "    <tr>\n",
       "      <th>10</th>\n",
       "      <td>manuella</td>\n",
       "      <td>53</td>\n",
       "      <td>4.30</td>\n",
       "    </tr>\n",
       "    <tr>\n",
       "      <th>11</th>\n",
       "      <td>LEGGERET</td>\n",
       "      <td>49</td>\n",
       "      <td>3.95</td>\n",
       "    </tr>\n",
       "    <tr>\n",
       "      <th>12</th>\n",
       "      <td>perez</td>\n",
       "      <td>34</td>\n",
       "      <td>3.78</td>\n",
       "    </tr>\n",
       "    <tr>\n",
       "      <th>13</th>\n",
       "      <td>sestre</td>\n",
       "      <td>40</td>\n",
       "      <td>5.98</td>\n",
       "    </tr>\n",
       "    <tr>\n",
       "      <th>14</th>\n",
       "      <td>Fazal</td>\n",
       "      <td>30</td>\n",
       "      <td>4.80</td>\n",
       "    </tr>\n",
       "    <tr>\n",
       "      <th>15</th>\n",
       "      <td>Donald</td>\n",
       "      <td>53</td>\n",
       "      <td>4.30</td>\n",
       "    </tr>\n",
       "    <tr>\n",
       "      <th>16</th>\n",
       "      <td>Estelle</td>\n",
       "      <td>49</td>\n",
       "      <td>3.95</td>\n",
       "    </tr>\n",
       "  </tbody>\n",
       "</table>\n",
       "</div>"
      ],
      "text/plain": [
       "           Nom  Age  Rating\n",
       "0      ANATOLE   55    4.53\n",
       "1     Vincent    59    3.54\n",
       "2      Brenda    55    3.98\n",
       "3    Philippe    53    5.59\n",
       "4      Michel    30    3.50\n",
       "5     Tillier    59    4.90\n",
       "6   Blanchard    53    3.80\n",
       "7        perez   34    3.78\n",
       "8        théo    40    5.98\n",
       "9     cyprien    30    4.80\n",
       "10   manuella    53    4.30\n",
       "11   LEGGERET    49    3.95\n",
       "12       perez   34    3.78\n",
       "13    sestre     40    5.98\n",
       "14      Fazal    30    4.80\n",
       "15      Donald   53    4.30\n",
       "16     Estelle   49    3.95"
      ]
     },
     "execution_count": 102,
     "metadata": {},
     "output_type": "execute_result"
    }
   ],
   "source": [
    "data = pd.read_csv('./tendance_centrale.csv', sep = \",\")\n",
    "data"
   ]
  },
  {
   "cell_type": "markdown",
   "metadata": {},
   "source": [
    "## 5-1 MESURE DE TENDANCE CENTRALE"
   ]
  },
  {
   "cell_type": "markdown",
   "metadata": {},
   "source": [
    "### La moyenne \n",
    " l'âge moyen est de 45.64 ans  et le taux moyen de 4, 43%\n",
    "(la moyenne est influencée par les extrêmes par rapport à la médiane)"
   ]
  },
  {
   "cell_type": "code",
   "execution_count": 253,
   "metadata": {},
   "outputs": [
    {
     "data": {
      "text/plain": [
       "Age       45.647059\n",
       "Rating     4.438824\n",
       "dtype: float64"
      ]
     },
     "execution_count": 253,
     "metadata": {},
     "output_type": "execute_result"
    }
   ],
   "source": [
    "data.mean()"
   ]
  },
  {
   "cell_type": "markdown",
   "metadata": {},
   "source": [
    "### La médiane \n",
    "il y a autant d'observations (en nombre) dans notre base de données qui sont supérieures ou inférieures à 49 ans et 4,3%."
   ]
  },
  {
   "cell_type": "code",
   "execution_count": 254,
   "metadata": {},
   "outputs": [
    {
     "data": {
      "text/plain": [
       "Age       49.0\n",
       "Rating     4.3\n",
       "dtype: float64"
      ]
     },
     "execution_count": 254,
     "metadata": {},
     "output_type": "execute_result"
    }
   ],
   "source": [
    "data.median()"
   ]
  },
  {
   "cell_type": "markdown",
   "metadata": {},
   "source": [
    "### Le mode de distribution => fréquence maximale\n",
    "Le nom le plus courant est Perez, les personnes ayant 53 ans sont les plus nombreuses et le taux le plus distribué est 3,78% suivi de celui de 3,95%."
   ]
  },
  {
   "cell_type": "code",
   "execution_count": 310,
   "metadata": {},
   "outputs": [
    {
     "data": {
      "text/html": [
       "<div>\n",
       "<style scoped>\n",
       "    .dataframe tbody tr th:only-of-type {\n",
       "        vertical-align: middle;\n",
       "    }\n",
       "\n",
       "    .dataframe tbody tr th {\n",
       "        vertical-align: top;\n",
       "    }\n",
       "\n",
       "    .dataframe thead th {\n",
       "        text-align: right;\n",
       "    }\n",
       "</style>\n",
       "<table border=\"1\" class=\"dataframe\">\n",
       "  <thead>\n",
       "    <tr style=\"text-align: right;\">\n",
       "      <th></th>\n",
       "      <th>Nom</th>\n",
       "      <th>Age</th>\n",
       "      <th>Rating</th>\n",
       "    </tr>\n",
       "  </thead>\n",
       "  <tbody>\n",
       "    <tr>\n",
       "      <th>0</th>\n",
       "      <td>perez</td>\n",
       "      <td>53.0</td>\n",
       "      <td>3.78</td>\n",
       "    </tr>\n",
       "    <tr>\n",
       "      <th>1</th>\n",
       "      <td>NaN</td>\n",
       "      <td>NaN</td>\n",
       "      <td>3.95</td>\n",
       "    </tr>\n",
       "    <tr>\n",
       "      <th>2</th>\n",
       "      <td>NaN</td>\n",
       "      <td>NaN</td>\n",
       "      <td>4.30</td>\n",
       "    </tr>\n",
       "    <tr>\n",
       "      <th>3</th>\n",
       "      <td>NaN</td>\n",
       "      <td>NaN</td>\n",
       "      <td>4.80</td>\n",
       "    </tr>\n",
       "    <tr>\n",
       "      <th>4</th>\n",
       "      <td>NaN</td>\n",
       "      <td>NaN</td>\n",
       "      <td>5.98</td>\n",
       "    </tr>\n",
       "  </tbody>\n",
       "</table>\n",
       "</div>"
      ],
      "text/plain": [
       "     Nom   Age  Rating\n",
       "0  perez  53.0    3.78\n",
       "1    NaN   NaN    3.95\n",
       "2    NaN   NaN    4.30\n",
       "3    NaN   NaN    4.80\n",
       "4    NaN   NaN    5.98"
      ]
     },
     "execution_count": 310,
     "metadata": {},
     "output_type": "execute_result"
    }
   ],
   "source": [
    "data.mode()"
   ]
  },
  {
   "cell_type": "markdown",
   "metadata": {},
   "source": [
    "## 5- 2 ANALYSE DE LA VARIANCE"
   ]
  },
  {
   "cell_type": "code",
   "execution_count": 255,
   "metadata": {},
   "outputs": [
    {
     "data": {
      "text/plain": [
       "Age       108.228374\n",
       "Rating      0.602940\n",
       "dtype: float64"
      ]
     },
     "execution_count": 255,
     "metadata": {},
     "output_type": "execute_result"
    }
   ],
   "source": [
    "import numpy as np\n",
    "\n",
    "np.var(data)"
   ]
  },
  {
   "cell_type": "markdown",
   "metadata": {},
   "source": [
    "La variance est la moyenne des carrés des écarts à la moyenne, ou encore la moyenne des carrés diminuée du carré de la moyenne.\n",
    "Plus une variance est élévée plus la dispersion des observations est importante ; elle est très sensible aux valeurs extrêmes, ce que nous constatons ici pour l'âge.\n",
    "A l'inverse, on constate que la variance est assez proche de 0 pour le taux ce qui indique que les données sont peu dispersées."
   ]
  },
  {
   "cell_type": "markdown",
   "metadata": {},
   "source": [
    "# ecart type"
   ]
  },
  {
   "cell_type": "code",
   "execution_count": 258,
   "metadata": {},
   "outputs": [
    {
     "name": "stdout",
     "output_type": "stream",
     "text": [
      "Age       10.403287\n",
      "Rating     0.776492\n",
      "dtype: float64\n"
     ]
    }
   ],
   "source": [
    "print(np.std(data))"
   ]
  },
  {
   "cell_type": "markdown",
   "metadata": {},
   "source": [
    "## 5- 3 ANALYSE DE CORRELATIONS"
   ]
  },
  {
   "cell_type": "code",
   "execution_count": 2,
   "metadata": {},
   "outputs": [],
   "source": [
    "import pandas as pd\n",
    "import matplotlib.pyplot as plt\n",
    "import seaborn as sb\n",
    "import numpy as np\n",
    "import scipy as sp\n",
    "import statsmodels.formula.api as smf\n",
    "import statsmodels.api as sm\n",
    "from sklearn.linear_model import LogisticRegression\n",
    "from sklearn.model_selection import PredefinedSplit\n",
    "from sklearn.model_selection import cross_val_score\n",
    "from sklearn.pipeline import make_pipeline\n",
    "from sklearn import preprocessing\n",
    "from sklearn.preprocessing import LabelEncoder\n",
    "import scipy.stats\n"
   ]
  },
  {
   "cell_type": "code",
   "execution_count": 3,
   "metadata": {},
   "outputs": [
    {
     "data": {
      "text/html": [
       "<div>\n",
       "<style scoped>\n",
       "    .dataframe tbody tr th:only-of-type {\n",
       "        vertical-align: middle;\n",
       "    }\n",
       "\n",
       "    .dataframe tbody tr th {\n",
       "        vertical-align: top;\n",
       "    }\n",
       "\n",
       "    .dataframe thead th {\n",
       "        text-align: right;\n",
       "    }\n",
       "</style>\n",
       "<table border=\"1\" class=\"dataframe\">\n",
       "  <thead>\n",
       "    <tr style=\"text-align: right;\">\n",
       "      <th></th>\n",
       "      <th>longueur_sepal</th>\n",
       "      <th>largeur_sepal</th>\n",
       "      <th>longueur_petal</th>\n",
       "      <th>largeur_petal</th>\n",
       "      <th>espèce</th>\n",
       "    </tr>\n",
       "  </thead>\n",
       "  <tbody>\n",
       "    <tr>\n",
       "      <th>0</th>\n",
       "      <td>5.1</td>\n",
       "      <td>3.5</td>\n",
       "      <td>1.4</td>\n",
       "      <td>0.2</td>\n",
       "      <td>setosa</td>\n",
       "    </tr>\n",
       "    <tr>\n",
       "      <th>1</th>\n",
       "      <td>4.9</td>\n",
       "      <td>3.0</td>\n",
       "      <td>1.4</td>\n",
       "      <td>0.2</td>\n",
       "      <td>setosa</td>\n",
       "    </tr>\n",
       "    <tr>\n",
       "      <th>2</th>\n",
       "      <td>4.7</td>\n",
       "      <td>3.2</td>\n",
       "      <td>1.3</td>\n",
       "      <td>0.2</td>\n",
       "      <td>setosa</td>\n",
       "    </tr>\n",
       "    <tr>\n",
       "      <th>3</th>\n",
       "      <td>4.6</td>\n",
       "      <td>3.1</td>\n",
       "      <td>1.5</td>\n",
       "      <td>0.2</td>\n",
       "      <td>setosa</td>\n",
       "    </tr>\n",
       "    <tr>\n",
       "      <th>4</th>\n",
       "      <td>5.0</td>\n",
       "      <td>3.6</td>\n",
       "      <td>1.4</td>\n",
       "      <td>0.2</td>\n",
       "      <td>setosa</td>\n",
       "    </tr>\n",
       "    <tr>\n",
       "      <th>...</th>\n",
       "      <td>...</td>\n",
       "      <td>...</td>\n",
       "      <td>...</td>\n",
       "      <td>...</td>\n",
       "      <td>...</td>\n",
       "    </tr>\n",
       "    <tr>\n",
       "      <th>145</th>\n",
       "      <td>6.7</td>\n",
       "      <td>3.0</td>\n",
       "      <td>5.2</td>\n",
       "      <td>2.3</td>\n",
       "      <td>virginica</td>\n",
       "    </tr>\n",
       "    <tr>\n",
       "      <th>146</th>\n",
       "      <td>6.3</td>\n",
       "      <td>2.5</td>\n",
       "      <td>5.0</td>\n",
       "      <td>1.9</td>\n",
       "      <td>virginica</td>\n",
       "    </tr>\n",
       "    <tr>\n",
       "      <th>147</th>\n",
       "      <td>6.5</td>\n",
       "      <td>3.0</td>\n",
       "      <td>5.2</td>\n",
       "      <td>2.0</td>\n",
       "      <td>virginica</td>\n",
       "    </tr>\n",
       "    <tr>\n",
       "      <th>148</th>\n",
       "      <td>6.2</td>\n",
       "      <td>3.4</td>\n",
       "      <td>5.4</td>\n",
       "      <td>2.3</td>\n",
       "      <td>virginica</td>\n",
       "    </tr>\n",
       "    <tr>\n",
       "      <th>149</th>\n",
       "      <td>5.9</td>\n",
       "      <td>3.0</td>\n",
       "      <td>5.1</td>\n",
       "      <td>1.8</td>\n",
       "      <td>virginica</td>\n",
       "    </tr>\n",
       "  </tbody>\n",
       "</table>\n",
       "<p>150 rows × 5 columns</p>\n",
       "</div>"
      ],
      "text/plain": [
       "     longueur_sepal  largeur_sepal  longueur_petal  largeur_petal     espèce\n",
       "0               5.1            3.5             1.4            0.2     setosa\n",
       "1               4.9            3.0             1.4            0.2     setosa\n",
       "2               4.7            3.2             1.3            0.2     setosa\n",
       "3               4.6            3.1             1.5            0.2     setosa\n",
       "4               5.0            3.6             1.4            0.2     setosa\n",
       "..              ...            ...             ...            ...        ...\n",
       "145             6.7            3.0             5.2            2.3  virginica\n",
       "146             6.3            2.5             5.0            1.9  virginica\n",
       "147             6.5            3.0             5.2            2.0  virginica\n",
       "148             6.2            3.4             5.4            2.3  virginica\n",
       "149             5.9            3.0             5.1            1.8  virginica\n",
       "\n",
       "[150 rows x 5 columns]"
      ]
     },
     "execution_count": 3,
     "metadata": {},
     "output_type": "execute_result"
    }
   ],
   "source": [
    "iris = pd.read_csv('./iris.csv', sep =\",\")\n",
    "iris"
   ]
  },
  {
   "cell_type": "code",
   "execution_count": 4,
   "metadata": {},
   "outputs": [
    {
     "name": "stdout",
     "output_type": "stream",
     "text": [
      "Valeurs manquantes par colonne:\n",
      "longueur_sepal    0\n",
      "largeur_sepal     0\n",
      "longueur_petal    0\n",
      "largeur_petal     0\n",
      "espèce            0\n",
      "dtype: int64\n",
      "\n",
      "Valeurs manquantes par ligne:\n",
      "0    0\n",
      "1    0\n",
      "2    0\n",
      "3    0\n",
      "4    0\n",
      "dtype: int64\n"
     ]
    }
   ],
   "source": [
    "#vue d'ensemble des valeurs manquantes\n",
    "def num_missing(x):\n",
    "    return sum(x.isnull())\n",
    "\n",
    "# On applique cette fonction pour chaque colonne:\n",
    "print(\"Valeurs manquantes par colonne:\")\n",
    "print(iris.apply(num_missing, axis=0)) #axis=0 définit que la fonction sera bien appliquée sur chaque colonne\n",
    "\n",
    "# Puis application pour chaque ligne:\n",
    "print(\"\\nValeurs manquantes par ligne:\")\n",
    "print(iris.apply(num_missing, axis=1).head()) #axis=1 définit que la fonction sera bien appliquée sur chaque ligne"
   ]
  },
  {
   "cell_type": "markdown",
   "metadata": {},
   "source": [
    "### 5.3.1 Analyse graphique"
   ]
  },
  {
   "cell_type": "markdown",
   "metadata": {},
   "source": [
    "### test  1 sur le sepal => La longeur et la largueur des sepal sont corrélées"
   ]
  },
  {
   "cell_type": "code",
   "execution_count": 173,
   "metadata": {},
   "outputs": [],
   "source": [
    "x = iris.iloc[:,1].values \n"
   ]
  },
  {
   "cell_type": "code",
   "execution_count": 174,
   "metadata": {},
   "outputs": [],
   "source": [
    "y = iris.iloc[:,0].values \n"
   ]
  },
  {
   "cell_type": "code",
   "execution_count": 187,
   "metadata": {},
   "outputs": [
    {
     "data": {
      "text/plain": [
       "<matplotlib.collections.PathCollection at 0x1cb138188e0>"
      ]
     },
     "execution_count": 187,
     "metadata": {},
     "output_type": "execute_result"
    },
    {
     "data": {
      "image/png": "[encoded data removed]",
      "text/plain": [
       "<Figure size 864x576 with 1 Axes>"
      ]
     },
     "metadata": {
      "needs_background": "light"
     },
     "output_type": "display_data"
    }
   ],
   "source": [
    "plt.figure(figsize=(12,8))\n",
    "plt.title('Relation entre la largueur et la longueur du sepal')\n",
    "plt.xlabel(\"longeur_sepal\")\n",
    "plt.ylabel(\"largeur_sepal\")\n",
    "plt.scatter(x,y, c=\"blue\", lw=2, ls='--')\n",
    "\n"
   ]
  },
  {
   "cell_type": "markdown",
   "metadata": {},
   "source": [
    "### test  2 sur les pétales => La longeur et la largueur des pétales sont corrélées"
   ]
  },
  {
   "cell_type": "code",
   "execution_count": null,
   "metadata": {},
   "outputs": [],
   "source": [
    "plt.scatter(iris.iloc[:,1],iris.iloc[:,2],c=\"red\")"
   ]
  },
  {
   "cell_type": "code",
   "execution_count": 190,
   "metadata": {},
   "outputs": [],
   "source": [
    "x = iris.iloc[:,2].values"
   ]
  },
  {
   "cell_type": "code",
   "execution_count": 192,
   "metadata": {},
   "outputs": [],
   "source": [
    "y = iris.iloc[:,3].values "
   ]
  },
  {
   "cell_type": "code",
   "execution_count": 186,
   "metadata": {},
   "outputs": [
    {
     "data": {
      "text/plain": [
       "<matplotlib.collections.PathCollection at 0x1cb13a26400>"
      ]
     },
     "execution_count": 186,
     "metadata": {},
     "output_type": "execute_result"
    },
    {
     "data": {
      "image/png": "[encoded data removed]",
      "text/plain": [
       "<Figure size 864x576 with 1 Axes>"
      ]
     },
     "metadata": {
      "needs_background": "light"
     },
     "output_type": "display_data"
    }
   ],
   "source": [
    "plt.figure(figsize=(12,8))\n",
    "plt.title('Relation entre la largueur et la longueur des pétales')\n",
    "plt.xlabel(\"longueur_petal\")\n",
    "plt.ylabel(\"largeur_petal\")\n",
    "plt.scatter(x,y, c=\"green\", lw=2, ls='--')"
   ]
  },
  {
   "cell_type": "markdown",
   "metadata": {},
   "source": [
    "### test 3 sur les longeurs =>  les longeurs des sepals et des petales sont corrélées"
   ]
  },
  {
   "cell_type": "code",
   "execution_count": 202,
   "metadata": {},
   "outputs": [
    {
     "data": {
      "text/plain": [
       "<matplotlib.collections.PathCollection at 0x1cb140d33d0>"
      ]
     },
     "execution_count": 202,
     "metadata": {},
     "output_type": "execute_result"
    },
    {
     "data": {
      "image/png": "[encoded data removed]",
      "text/plain": [
       "<Figure size 720x432 with 1 Axes>"
      ]
     },
     "metadata": {
      "needs_background": "light"
     },
     "output_type": "display_data"
    }
   ],
   "source": [
    "plt.figure(figsize=(10,6))\n",
    "plt.title('Relation entre les longeurs')\n",
    "plt.xlabel(\"longeur_sepal\")\n",
    "plt.ylabel(\"longeur_petal\")\n",
    "plt.scatter(iris.iloc[:,0],iris.iloc[:,2],c=\"red\")"
   ]
  },
  {
   "cell_type": "markdown",
   "metadata": {},
   "source": [
    "### test 4 sur les largeurs => indépendantes"
   ]
  },
  {
   "cell_type": "code",
   "execution_count": 233,
   "metadata": {},
   "outputs": [
    {
     "data": {
      "text/plain": [
       "<matplotlib.collections.PathCollection at 0x1cb15e01bb0>"
      ]
     },
     "execution_count": 233,
     "metadata": {},
     "output_type": "execute_result"
    },
    {
     "data": {
      "image/png": "[encoded data removed]",
      "text/plain": [
       "<Figure size 720x432 with 1 Axes>"
      ]
     },
     "metadata": {
      "needs_background": "light"
     },
     "output_type": "display_data"
    }
   ],
   "source": [
    "plt.figure(figsize=(10,6))\n",
    "plt.title('Relation entre les largeurs')\n",
    "plt.xlabel(\"largeur_sepal\")\n",
    "plt.ylabel(\"largeur_petal\")\n",
    "plt.scatter(iris.iloc[:,1],iris.iloc[:,3],c=\"yellow\")"
   ]
  },
  {
   "cell_type": "markdown",
   "metadata": {},
   "source": [
    "### test 5 sur les largeurs et les longueurs en fonction des espèces"
   ]
  },
  {
   "cell_type": "code",
   "execution_count": 236,
   "metadata": {},
   "outputs": [
    {
     "data": {
      "image/png": "[encoded data removed]",
      "text/plain": [
       "<Figure size 432x288 with 1 Axes>"
      ]
     },
     "metadata": {
      "needs_background": "light"
     },
     "output_type": "display_data"
    },
    {
     "data": {
      "text/plain": [
       "<Figure size 432x288 with 0 Axes>"
      ]
     },
     "metadata": {},
     "output_type": "display_data"
    }
   ],
   "source": [
    "plt.title('Largeur et longueur des pétales et des sepales en fonction de l espèce')\n",
    "plt.xlabel('Taille')\n",
    "plt.ylabel('Espèce')\n",
    "          \n",
    "y=iris.loc[:,'espèce']\n",
    "x=iris.loc[:,'longueur_petal']\n",
    "plt.scatter(x,Y, c=\"black\", label='longueur_petal', lw=2)\n",
    "\n",
    "y=iris.loc[:,'espèce']\n",
    "x=iris.loc[:,'largeur_petal']\n",
    "plt.scatter(x,Y, c=\"blue\", label='largeur_petal', lw=2)          \n",
    "\n",
    "y=iris.loc[:,'espèce']\n",
    "x=iris.loc[:,'longueur_sepal']\n",
    "plt.scatter(x,Y, c=\"yellow\", label='longueur_sepal', lw=2)\n",
    "\n",
    "y=iris.loc[:,'espèce']\n",
    "x=iris.loc[:,'largeur_sepal']\n",
    "plt.scatter(x,Y, c=\"red\", label='largeur_sepal', lw=2)\n",
    "\n",
    "\n",
    "plt.legend()\n",
    "plt.show()\n",
    "\n",
    "plt.savefig(\"nuage.png\")\n"
   ]
  },
  {
   "cell_type": "markdown",
   "metadata": {},
   "source": [
    "on constate que selon les espèces, il y a des divergences entre les relations. Par exemple pour l'espèce virginica les largeurs sont liées , ainsi que les longeurs entre elles contairement au setosa où la relation est centrée sur le sepal et le petal\n"
   ]
  },
  {
   "cell_type": "markdown",
   "metadata": {},
   "source": [
    "### 5.3.2 Analyse mathématique : coefficient de corrélation de Pearson\n",
    "Le coefficient de corrélation linéaire simple, dit de Bravais-Pearson(ou de Pearson)"
   ]
  },
  {
   "cell_type": "code",
   "execution_count": 55,
   "metadata": {},
   "outputs": [
    {
     "data": {
      "text/html": [
       "<div>\n",
       "<style scoped>\n",
       "    .dataframe tbody tr th:only-of-type {\n",
       "        vertical-align: middle;\n",
       "    }\n",
       "\n",
       "    .dataframe tbody tr th {\n",
       "        vertical-align: top;\n",
       "    }\n",
       "\n",
       "    .dataframe thead th {\n",
       "        text-align: right;\n",
       "    }\n",
       "</style>\n",
       "<table border=\"1\" class=\"dataframe\">\n",
       "  <thead>\n",
       "    <tr style=\"text-align: right;\">\n",
       "      <th></th>\n",
       "      <th>longueur_sepal</th>\n",
       "      <th>largeur_sepal</th>\n",
       "      <th>longueur_petal</th>\n",
       "      <th>largeur_petal</th>\n",
       "    </tr>\n",
       "  </thead>\n",
       "  <tbody>\n",
       "    <tr>\n",
       "      <th>longueur_sepal</th>\n",
       "      <td>1.000000</td>\n",
       "      <td>-0.117570</td>\n",
       "      <td>0.871754</td>\n",
       "      <td>0.817941</td>\n",
       "    </tr>\n",
       "    <tr>\n",
       "      <th>largeur_sepal</th>\n",
       "      <td>-0.117570</td>\n",
       "      <td>1.000000</td>\n",
       "      <td>-0.428440</td>\n",
       "      <td>-0.366126</td>\n",
       "    </tr>\n",
       "    <tr>\n",
       "      <th>longueur_petal</th>\n",
       "      <td>0.871754</td>\n",
       "      <td>-0.428440</td>\n",
       "      <td>1.000000</td>\n",
       "      <td>0.962865</td>\n",
       "    </tr>\n",
       "    <tr>\n",
       "      <th>largeur_petal</th>\n",
       "      <td>0.817941</td>\n",
       "      <td>-0.366126</td>\n",
       "      <td>0.962865</td>\n",
       "      <td>1.000000</td>\n",
       "    </tr>\n",
       "  </tbody>\n",
       "</table>\n",
       "</div>"
      ],
      "text/plain": [
       "                longueur_sepal  largeur_sepal  longueur_petal  largeur_petal\n",
       "longueur_sepal        1.000000      -0.117570        0.871754       0.817941\n",
       "largeur_sepal        -0.117570       1.000000       -0.428440      -0.366126\n",
       "longueur_petal        0.871754      -0.428440        1.000000       0.962865\n",
       "largeur_petal         0.817941      -0.366126        0.962865       1.000000"
      ]
     },
     "execution_count": 55,
     "metadata": {},
     "output_type": "execute_result"
    }
   ],
   "source": [
    "#Methode 1\n",
    "pearsoncorr = iris.corr(method='pearson')\n",
    "pearsoncorr"
   ]
  },
  {
   "cell_type": "code",
   "execution_count": 56,
   "metadata": {},
   "outputs": [
    {
     "data": {
      "text/html": [
       "<div>\n",
       "<style scoped>\n",
       "    .dataframe tbody tr th:only-of-type {\n",
       "        vertical-align: middle;\n",
       "    }\n",
       "\n",
       "    .dataframe tbody tr th {\n",
       "        vertical-align: top;\n",
       "    }\n",
       "\n",
       "    .dataframe thead th {\n",
       "        text-align: right;\n",
       "    }\n",
       "</style>\n",
       "<table border=\"1\" class=\"dataframe\">\n",
       "  <thead>\n",
       "    <tr style=\"text-align: right;\">\n",
       "      <th></th>\n",
       "      <th>longueur_sepal</th>\n",
       "      <th>largeur_sepal</th>\n",
       "      <th>longueur_petal</th>\n",
       "      <th>largeur_petal</th>\n",
       "    </tr>\n",
       "  </thead>\n",
       "  <tbody>\n",
       "    <tr>\n",
       "      <th>longueur_sepal</th>\n",
       "      <td>1.000000</td>\n",
       "      <td>-0.117570</td>\n",
       "      <td>0.871754</td>\n",
       "      <td>0.817941</td>\n",
       "    </tr>\n",
       "    <tr>\n",
       "      <th>largeur_sepal</th>\n",
       "      <td>-0.117570</td>\n",
       "      <td>1.000000</td>\n",
       "      <td>-0.428440</td>\n",
       "      <td>-0.366126</td>\n",
       "    </tr>\n",
       "    <tr>\n",
       "      <th>longueur_petal</th>\n",
       "      <td>0.871754</td>\n",
       "      <td>-0.428440</td>\n",
       "      <td>1.000000</td>\n",
       "      <td>0.962865</td>\n",
       "    </tr>\n",
       "    <tr>\n",
       "      <th>largeur_petal</th>\n",
       "      <td>0.817941</td>\n",
       "      <td>-0.366126</td>\n",
       "      <td>0.962865</td>\n",
       "      <td>1.000000</td>\n",
       "    </tr>\n",
       "  </tbody>\n",
       "</table>\n",
       "</div>"
      ],
      "text/plain": [
       "                longueur_sepal  largeur_sepal  longueur_petal  largeur_petal\n",
       "longueur_sepal        1.000000      -0.117570        0.871754       0.817941\n",
       "largeur_sepal        -0.117570       1.000000       -0.428440      -0.366126\n",
       "longueur_petal        0.871754      -0.428440        1.000000       0.962865\n",
       "largeur_petal         0.817941      -0.366126        0.962865       1.000000"
      ]
     },
     "execution_count": 56,
     "metadata": {},
     "output_type": "execute_result"
    }
   ],
   "source": [
    "# Méthode 2 identique\n",
    "iris.corr()"
   ]
  },
  {
   "cell_type": "code",
   "execution_count": 68,
   "metadata": {},
   "outputs": [
    {
     "data": {
      "text/plain": [
       "<matplotlib.axes._subplots.AxesSubplot at 0x1cb10a34a90>"
      ]
     },
     "execution_count": 68,
     "metadata": {},
     "output_type": "execute_result"
    },
    {
     "data": {
      "image/png": "[encoded data removed]",
      "text/plain": [
       "<Figure size 432x288 with 2 Axes>"
      ]
     },
     "metadata": {
      "needs_background": "light"
     },
     "output_type": "display_data"
    }
   ],
   "source": [
    "sb.heatmap(pearsoncorr, \n",
    "            xticklabels=pearsoncorr.columns,\n",
    "            yticklabels=pearsoncorr.columns,\n",
    "            cmap='RdBu_r',\n",
    "            annot=True,\n",
    "            linewidth=0.5)"
   ]
  },
  {
   "cell_type": "markdown",
   "metadata": {},
   "source": [
    "plus les données sont proches de 1, plus les donnéees sont correlées entre elles.\n",
    "on en déduit donc que :\n",
    "    - la longueur du sépal a une influence sur la longeur (0,87) et la largeur du petal(0,82).\n",
    "    - la longeur et la largeur du pétal sont fortement corrélées (0,96)\n",
    "\n",
    "A l'inverse, on constate que la largeur du sépal a peu de lien avec les autres données car le coefficient de correlation est négatif et proche de 0, on dit que la liaison est linéairement indépendante.."
   ]
  },
  {
   "cell_type": "code",
   "execution_count": null,
   "metadata": {},
   "outputs": [],
   "source": []
  },
  {
   "cell_type": "markdown",
   "metadata": {},
   "source": [
    "https://levelup.gitconnected.com/pearson-coefficient-of-correlation-using-pandas-ca68ce678c04"
   ]
  },
  {
   "cell_type": "markdown",
   "metadata": {},
   "source": [
    "## tests perso"
   ]
  },
  {
   "cell_type": "code",
   "execution_count": 14,
   "metadata": {},
   "outputs": [
    {
     "data": {
      "text/html": [
       "<div>\n",
       "<style scoped>\n",
       "    .dataframe tbody tr th:only-of-type {\n",
       "        vertical-align: middle;\n",
       "    }\n",
       "\n",
       "    .dataframe tbody tr th {\n",
       "        vertical-align: top;\n",
       "    }\n",
       "\n",
       "    .dataframe thead th {\n",
       "        text-align: right;\n",
       "    }\n",
       "</style>\n",
       "<table border=\"1\" class=\"dataframe\">\n",
       "  <thead>\n",
       "    <tr style=\"text-align: right;\">\n",
       "      <th></th>\n",
       "      <th>ID_NOM</th>\n",
       "      <th>Niv_Etude_Bac</th>\n",
       "      <th>age</th>\n",
       "      <th>contrat_de_travail</th>\n",
       "      <th>Salaire</th>\n",
       "      <th>dette_anterieure</th>\n",
       "      <th>etat_civile</th>\n",
       "      <th>apport</th>\n",
       "      <th>enfant_a_Charge</th>\n",
       "      <th>Solvable</th>\n",
       "    </tr>\n",
       "  </thead>\n",
       "  <tbody>\n",
       "    <tr>\n",
       "      <th>0</th>\n",
       "      <td>jean</td>\n",
       "      <td>3.0</td>\n",
       "      <td>45</td>\n",
       "      <td>CDI</td>\n",
       "      <td>40000</td>\n",
       "      <td>4000</td>\n",
       "      <td>M</td>\n",
       "      <td>0.3</td>\n",
       "      <td>3.0</td>\n",
       "      <td>OUI</td>\n",
       "    </tr>\n",
       "    <tr>\n",
       "      <th>1</th>\n",
       "      <td>VANESSA</td>\n",
       "      <td>5.0</td>\n",
       "      <td>28</td>\n",
       "      <td>CDI</td>\n",
       "      <td>30500</td>\n",
       "      <td>1320</td>\n",
       "      <td>M</td>\n",
       "      <td>0.1</td>\n",
       "      <td>0.0</td>\n",
       "      <td>OUI</td>\n",
       "    </tr>\n",
       "    <tr>\n",
       "      <th>2</th>\n",
       "      <td>TARCISSE</td>\n",
       "      <td>0.0</td>\n",
       "      <td>55</td>\n",
       "      <td>CDI</td>\n",
       "      <td>28000</td>\n",
       "      <td>40000</td>\n",
       "      <td>C</td>\n",
       "      <td>0.0</td>\n",
       "      <td>0.0</td>\n",
       "      <td>NON</td>\n",
       "    </tr>\n",
       "    <tr>\n",
       "      <th>3</th>\n",
       "      <td>TIBAULT</td>\n",
       "      <td>4.0</td>\n",
       "      <td>23</td>\n",
       "      <td>CDD</td>\n",
       "      <td>15000</td>\n",
       "      <td>0</td>\n",
       "      <td>M</td>\n",
       "      <td>0.1</td>\n",
       "      <td>0.0</td>\n",
       "      <td>OUI</td>\n",
       "    </tr>\n",
       "    <tr>\n",
       "      <th>4</th>\n",
       "      <td>GILES</td>\n",
       "      <td>0.0</td>\n",
       "      <td>33</td>\n",
       "      <td>CDD</td>\n",
       "      <td>27000</td>\n",
       "      <td>3000</td>\n",
       "      <td>C</td>\n",
       "      <td>0.1</td>\n",
       "      <td>2.0</td>\n",
       "      <td>NON</td>\n",
       "    </tr>\n",
       "    <tr>\n",
       "      <th>5</th>\n",
       "      <td>ETHAN</td>\n",
       "      <td>0.0</td>\n",
       "      <td>41</td>\n",
       "      <td>INTERIM</td>\n",
       "      <td>40000</td>\n",
       "      <td>1000</td>\n",
       "      <td>M</td>\n",
       "      <td>0.0</td>\n",
       "      <td>4.0</td>\n",
       "      <td>NON</td>\n",
       "    </tr>\n",
       "    <tr>\n",
       "      <th>6</th>\n",
       "      <td>LILIANE</td>\n",
       "      <td>-1.0</td>\n",
       "      <td>29</td>\n",
       "      <td>CDI</td>\n",
       "      <td>50000</td>\n",
       "      <td>3000</td>\n",
       "      <td>C</td>\n",
       "      <td>0.0</td>\n",
       "      <td>0.0</td>\n",
       "      <td>NON</td>\n",
       "    </tr>\n",
       "    <tr>\n",
       "      <th>7</th>\n",
       "      <td>GLODI</td>\n",
       "      <td>-3.0</td>\n",
       "      <td>24</td>\n",
       "      <td>INTERIM</td>\n",
       "      <td>29000</td>\n",
       "      <td>5000</td>\n",
       "      <td>C</td>\n",
       "      <td>0.0</td>\n",
       "      <td>0.0</td>\n",
       "      <td>NON</td>\n",
       "    </tr>\n",
       "    <tr>\n",
       "      <th>8</th>\n",
       "      <td>FLORIANE</td>\n",
       "      <td>0.0</td>\n",
       "      <td>26</td>\n",
       "      <td>CDI</td>\n",
       "      <td>44000</td>\n",
       "      <td>0</td>\n",
       "      <td>M</td>\n",
       "      <td>0.1</td>\n",
       "      <td>1.0</td>\n",
       "      <td>OUI</td>\n",
       "    </tr>\n",
       "    <tr>\n",
       "      <th>9</th>\n",
       "      <td>MARIE</td>\n",
       "      <td>3.0</td>\n",
       "      <td>37</td>\n",
       "      <td>CDI</td>\n",
       "      <td>45800</td>\n",
       "      <td>2000</td>\n",
       "      <td>M</td>\n",
       "      <td>0.2</td>\n",
       "      <td>2.0</td>\n",
       "      <td>OUI</td>\n",
       "    </tr>\n",
       "    <tr>\n",
       "      <th>10</th>\n",
       "      <td>BAKAMBU</td>\n",
       "      <td>2.0</td>\n",
       "      <td>40</td>\n",
       "      <td>CDI</td>\n",
       "      <td>60000</td>\n",
       "      <td>1500</td>\n",
       "      <td>M</td>\n",
       "      <td>0.3</td>\n",
       "      <td>3.0</td>\n",
       "      <td>OUI</td>\n",
       "    </tr>\n",
       "    <tr>\n",
       "      <th>11</th>\n",
       "      <td>FATOU</td>\n",
       "      <td>0.0</td>\n",
       "      <td>38</td>\n",
       "      <td>CDD</td>\n",
       "      <td>26000</td>\n",
       "      <td>8000</td>\n",
       "      <td>C</td>\n",
       "      <td>0.4</td>\n",
       "      <td>0.0</td>\n",
       "      <td>NON</td>\n",
       "    </tr>\n",
       "    <tr>\n",
       "      <th>12</th>\n",
       "      <td>WUAN</td>\n",
       "      <td>-3.0</td>\n",
       "      <td>39</td>\n",
       "      <td>INTERIM</td>\n",
       "      <td>29000</td>\n",
       "      <td>4900</td>\n",
       "      <td>M</td>\n",
       "      <td>0.0</td>\n",
       "      <td>1.0</td>\n",
       "      <td>NON</td>\n",
       "    </tr>\n",
       "    <tr>\n",
       "      <th>13</th>\n",
       "      <td>HUGO</td>\n",
       "      <td>0.0</td>\n",
       "      <td>31</td>\n",
       "      <td>CDI</td>\n",
       "      <td>43000</td>\n",
       "      <td>100000</td>\n",
       "      <td>M</td>\n",
       "      <td>0.2</td>\n",
       "      <td>2.0</td>\n",
       "      <td>NON</td>\n",
       "    </tr>\n",
       "    <tr>\n",
       "      <th>14</th>\n",
       "      <td>JOSEPH</td>\n",
       "      <td>1.0</td>\n",
       "      <td>70</td>\n",
       "      <td>CDD</td>\n",
       "      <td>45000</td>\n",
       "      <td>17000</td>\n",
       "      <td>C</td>\n",
       "      <td>0.3</td>\n",
       "      <td>0.0</td>\n",
       "      <td>NON</td>\n",
       "    </tr>\n",
       "    <tr>\n",
       "      <th>15</th>\n",
       "      <td>DIANE</td>\n",
       "      <td>0.0</td>\n",
       "      <td>42</td>\n",
       "      <td>ENTRPRENEUR</td>\n",
       "      <td>70000</td>\n",
       "      <td>26000</td>\n",
       "      <td>M</td>\n",
       "      <td>0.2</td>\n",
       "      <td>0.0</td>\n",
       "      <td>NON</td>\n",
       "    </tr>\n",
       "    <tr>\n",
       "      <th>16</th>\n",
       "      <td>FENG</td>\n",
       "      <td>8.0</td>\n",
       "      <td>46</td>\n",
       "      <td>CDI</td>\n",
       "      <td>80000</td>\n",
       "      <td>8000</td>\n",
       "      <td>M</td>\n",
       "      <td>0.0</td>\n",
       "      <td>3.0</td>\n",
       "      <td>OUI</td>\n",
       "    </tr>\n",
       "    <tr>\n",
       "      <th>17</th>\n",
       "      <td>FRICHET</td>\n",
       "      <td>3.0</td>\n",
       "      <td>23</td>\n",
       "      <td>CDI</td>\n",
       "      <td>100000</td>\n",
       "      <td>0</td>\n",
       "      <td>M</td>\n",
       "      <td>0.3</td>\n",
       "      <td>1.0</td>\n",
       "      <td>OUI</td>\n",
       "    </tr>\n",
       "    <tr>\n",
       "      <th>18</th>\n",
       "      <td>HOLLANDE</td>\n",
       "      <td>4.0</td>\n",
       "      <td>32</td>\n",
       "      <td>CDI</td>\n",
       "      <td>21000</td>\n",
       "      <td>1200</td>\n",
       "      <td>M</td>\n",
       "      <td>0.1</td>\n",
       "      <td>2.0</td>\n",
       "      <td>OUI</td>\n",
       "    </tr>\n",
       "  </tbody>\n",
       "</table>\n",
       "</div>"
      ],
      "text/plain": [
       "      ID_NOM  Niv_Etude_Bac  age contrat_de_travail  Salaire  \\\n",
       "0       jean            3.0   45                CDI    40000   \n",
       "1    VANESSA            5.0   28                CDI    30500   \n",
       "2   TARCISSE            0.0   55                CDI    28000   \n",
       "3    TIBAULT            4.0   23                CDD    15000   \n",
       "4      GILES            0.0   33                CDD    27000   \n",
       "5      ETHAN            0.0   41            INTERIM    40000   \n",
       "6    LILIANE           -1.0   29                CDI    50000   \n",
       "7      GLODI           -3.0   24            INTERIM    29000   \n",
       "8   FLORIANE            0.0   26                CDI    44000   \n",
       "9      MARIE            3.0   37                CDI    45800   \n",
       "10   BAKAMBU            2.0   40                CDI    60000   \n",
       "11     FATOU            0.0   38                CDD    26000   \n",
       "12      WUAN           -3.0   39            INTERIM    29000   \n",
       "13      HUGO            0.0   31                CDI    43000   \n",
       "14    JOSEPH            1.0   70                CDD    45000   \n",
       "15     DIANE            0.0   42        ENTRPRENEUR    70000   \n",
       "16      FENG            8.0   46                CDI    80000   \n",
       "17   FRICHET            3.0   23                CDI   100000   \n",
       "18  HOLLANDE            4.0   32                CDI    21000   \n",
       "\n",
       "    dette_anterieure etat_civile  apport  enfant_a_Charge Solvable  \n",
       "0               4000           M     0.3              3.0      OUI  \n",
       "1               1320           M     0.1              0.0      OUI  \n",
       "2              40000           C     0.0              0.0      NON  \n",
       "3                  0           M     0.1              0.0      OUI  \n",
       "4               3000           C     0.1              2.0      NON  \n",
       "5               1000           M     0.0              4.0      NON  \n",
       "6               3000           C     0.0              0.0      NON  \n",
       "7               5000           C     0.0              0.0      NON  \n",
       "8                  0           M     0.1              1.0      OUI  \n",
       "9               2000           M     0.2              2.0      OUI  \n",
       "10              1500           M     0.3              3.0      OUI  \n",
       "11              8000           C     0.4              0.0      NON  \n",
       "12              4900           M     0.0              1.0      NON  \n",
       "13            100000           M     0.2              2.0      NON  \n",
       "14             17000           C     0.3              0.0      NON  \n",
       "15             26000           M     0.2              0.0      NON  \n",
       "16              8000           M     0.0              3.0      OUI  \n",
       "17                 0           M     0.3              1.0      OUI  \n",
       "18              1200           M     0.1              2.0      OUI  "
      ]
     },
     "execution_count": 14,
     "metadata": {},
     "output_type": "execute_result"
    }
   ],
   "source": [
    "credit_immo.fillna(0) #remplacer par 0"
   ]
  },
  {
   "cell_type": "code",
   "execution_count": 15,
   "metadata": {},
   "outputs": [
    {
     "name": "stdout",
     "output_type": "stream",
     "text": [
      "    ID_NOM  Niv_Etude_Bac    age  contrat_de_travail  Salaire  \\\n",
      "0    False          False  False               False    False   \n",
      "1    False          False  False               False    False   \n",
      "2    False          False  False               False    False   \n",
      "3    False          False  False               False    False   \n",
      "4    False          False  False               False    False   \n",
      "5    False          False  False               False    False   \n",
      "6    False          False  False               False    False   \n",
      "7    False          False  False               False    False   \n",
      "8    False           True  False               False    False   \n",
      "9    False          False  False               False    False   \n",
      "10   False          False  False               False    False   \n",
      "11   False          False  False               False    False   \n",
      "12   False          False  False               False    False   \n",
      "13   False          False  False               False    False   \n",
      "14   False          False  False               False    False   \n",
      "15   False          False  False               False    False   \n",
      "16   False          False  False               False    False   \n",
      "17   False          False  False               False    False   \n",
      "18   False          False  False               False    False   \n",
      "\n",
      "    dette_anterieure  etat_civile  apport  enfant_a_Charge  Solvable  \n",
      "0              False        False   False            False     False  \n",
      "1              False        False   False            False     False  \n",
      "2              False        False   False            False     False  \n",
      "3              False        False   False             True     False  \n",
      "4              False        False   False            False     False  \n",
      "5              False        False   False            False     False  \n",
      "6              False        False   False            False     False  \n",
      "7              False        False   False            False     False  \n",
      "8              False        False   False            False     False  \n",
      "9              False        False   False            False     False  \n",
      "10             False        False   False            False     False  \n",
      "11             False        False   False            False     False  \n",
      "12             False        False   False            False     False  \n",
      "13             False        False   False            False     False  \n",
      "14             False        False   False            False     False  \n",
      "15             False        False   False            False     False  \n",
      "16             False        False   False            False     False  \n",
      "17             False        False   False            False     False  \n",
      "18             False        False   False            False     False  \n"
     ]
    }
   ],
   "source": [
    "print(credit_immo.isnull()) #faire apparaitre les valeurs nulles"
   ]
  },
  {
   "cell_type": "code",
   "execution_count": 18,
   "metadata": {},
   "outputs": [
    {
     "name": "stdout",
     "output_type": "stream",
     "text": [
      "Valeurs manquantes par colonne:\n",
      "ID_NOM                0\n",
      "Niv_Etude_Bac         1\n",
      "age                   0\n",
      "contrat_de_travail    0\n",
      "Salaire               0\n",
      "dette_anterieure      0\n",
      "etat_civile           0\n",
      "apport                0\n",
      "enfant_a_Charge       1\n",
      "Solvable              0\n",
      "dtype: int64\n",
      "\n",
      "Valeurs manquantes par ligne:\n",
      "0    0\n",
      "1    0\n",
      "2    0\n",
      "3    1\n",
      "4    0\n",
      "dtype: int64\n"
     ]
    }
   ],
   "source": [
    "#vue d'ensemble des valeurs manquantes\n",
    "def num_missing(x):\n",
    "    return sum(x.isnull())\n",
    "\n",
    "# On applique cette fonction pour chaque colonne:\n",
    "print(\"Valeurs manquantes par colonne:\")\n",
    "print(credit_immo.apply(num_missing, axis=0)) #axis=0 définit que la fonction sera bien appliquée sur chaque colonne\n",
    "\n",
    "# Puis application pour chaque ligne:\n",
    "print(\"\\nValeurs manquantes par ligne:\")\n",
    "print(credit_immo.apply(num_missing, axis=1).head()) #axis=1 définit que la fonction sera bien appliquée sur chaque ligne\n"
   ]
  },
  {
   "cell_type": "code",
   "execution_count": 62,
   "metadata": {},
   "outputs": [
    {
     "data": {
      "text/html": [
       "<div>\n",
       "<style scoped>\n",
       "    .dataframe tbody tr th:only-of-type {\n",
       "        vertical-align: middle;\n",
       "    }\n",
       "\n",
       "    .dataframe tbody tr th {\n",
       "        vertical-align: top;\n",
       "    }\n",
       "\n",
       "    .dataframe thead th {\n",
       "        text-align: right;\n",
       "    }\n",
       "</style>\n",
       "<table border=\"1\" class=\"dataframe\">\n",
       "  <thead>\n",
       "    <tr style=\"text-align: right;\">\n",
       "      <th></th>\n",
       "      <th>longueur_sepal</th>\n",
       "      <th>largeur_sepal</th>\n",
       "      <th>longueur_petal</th>\n",
       "      <th>largeur_petal</th>\n",
       "      <th>espèce</th>\n",
       "    </tr>\n",
       "  </thead>\n",
       "  <tbody>\n",
       "    <tr>\n",
       "      <th>0</th>\n",
       "      <td>5.1</td>\n",
       "      <td>3.5</td>\n",
       "      <td>1.4</td>\n",
       "      <td>0.2</td>\n",
       "      <td>setosa</td>\n",
       "    </tr>\n",
       "    <tr>\n",
       "      <th>1</th>\n",
       "      <td>4.9</td>\n",
       "      <td>3.0</td>\n",
       "      <td>1.4</td>\n",
       "      <td>0.2</td>\n",
       "      <td>setosa</td>\n",
       "    </tr>\n",
       "    <tr>\n",
       "      <th>2</th>\n",
       "      <td>4.7</td>\n",
       "      <td>3.2</td>\n",
       "      <td>1.3</td>\n",
       "      <td>0.2</td>\n",
       "      <td>setosa</td>\n",
       "    </tr>\n",
       "    <tr>\n",
       "      <th>3</th>\n",
       "      <td>4.6</td>\n",
       "      <td>3.1</td>\n",
       "      <td>1.5</td>\n",
       "      <td>0.2</td>\n",
       "      <td>setosa</td>\n",
       "    </tr>\n",
       "    <tr>\n",
       "      <th>4</th>\n",
       "      <td>5.0</td>\n",
       "      <td>3.6</td>\n",
       "      <td>1.4</td>\n",
       "      <td>0.2</td>\n",
       "      <td>setosa</td>\n",
       "    </tr>\n",
       "    <tr>\n",
       "      <th>...</th>\n",
       "      <td>...</td>\n",
       "      <td>...</td>\n",
       "      <td>...</td>\n",
       "      <td>...</td>\n",
       "      <td>...</td>\n",
       "    </tr>\n",
       "    <tr>\n",
       "      <th>145</th>\n",
       "      <td>6.7</td>\n",
       "      <td>3.0</td>\n",
       "      <td>5.2</td>\n",
       "      <td>2.3</td>\n",
       "      <td>virginica</td>\n",
       "    </tr>\n",
       "    <tr>\n",
       "      <th>146</th>\n",
       "      <td>6.3</td>\n",
       "      <td>2.5</td>\n",
       "      <td>5.0</td>\n",
       "      <td>1.9</td>\n",
       "      <td>virginica</td>\n",
       "    </tr>\n",
       "    <tr>\n",
       "      <th>147</th>\n",
       "      <td>6.5</td>\n",
       "      <td>3.0</td>\n",
       "      <td>5.2</td>\n",
       "      <td>2.0</td>\n",
       "      <td>virginica</td>\n",
       "    </tr>\n",
       "    <tr>\n",
       "      <th>148</th>\n",
       "      <td>6.2</td>\n",
       "      <td>3.4</td>\n",
       "      <td>5.4</td>\n",
       "      <td>2.3</td>\n",
       "      <td>virginica</td>\n",
       "    </tr>\n",
       "    <tr>\n",
       "      <th>149</th>\n",
       "      <td>5.9</td>\n",
       "      <td>3.0</td>\n",
       "      <td>5.1</td>\n",
       "      <td>1.8</td>\n",
       "      <td>virginica</td>\n",
       "    </tr>\n",
       "  </tbody>\n",
       "</table>\n",
       "<p>150 rows × 5 columns</p>\n",
       "</div>"
      ],
      "text/plain": [
       "     longueur_sepal  largeur_sepal  longueur_petal  largeur_petal     espèce\n",
       "0               5.1            3.5             1.4            0.2     setosa\n",
       "1               4.9            3.0             1.4            0.2     setosa\n",
       "2               4.7            3.2             1.3            0.2     setosa\n",
       "3               4.6            3.1             1.5            0.2     setosa\n",
       "4               5.0            3.6             1.4            0.2     setosa\n",
       "..              ...            ...             ...            ...        ...\n",
       "145             6.7            3.0             5.2            2.3  virginica\n",
       "146             6.3            2.5             5.0            1.9  virginica\n",
       "147             6.5            3.0             5.2            2.0  virginica\n",
       "148             6.2            3.4             5.4            2.3  virginica\n",
       "149             5.9            3.0             5.1            1.8  virginica\n",
       "\n",
       "[150 rows x 5 columns]"
      ]
     },
     "execution_count": 62,
     "metadata": {},
     "output_type": "execute_result"
    }
   ],
   "source": [
    "iris = pd.read_csv('./iris.csv', sep = \",\")\n",
    "iris"
   ]
  },
  {
   "cell_type": "code",
   "execution_count": 226,
   "metadata": {},
   "outputs": [
    {
     "name": "stdout",
     "output_type": "stream",
     "text": [
      "['setosa' 'setosa' 'setosa' 'setosa' 'setosa' 'setosa' 'setosa' 'setosa'\n",
      " 'setosa' 'setosa' 'setosa' 'setosa' 'setosa' 'setosa' 'setosa' 'setosa'\n",
      " 'setosa' 'setosa' 'setosa' 'setosa' 'setosa' 'setosa' 'setosa' 'setosa'\n",
      " 'setosa' 'setosa' 'setosa' 'setosa' 'setosa' 'setosa' 'setosa' 'setosa'\n",
      " 'setosa' 'setosa' 'setosa' 'setosa' 'setosa' 'setosa' 'setosa' 'setosa'\n",
      " 'setosa' 'setosa' 'setosa' 'setosa' 'setosa' 'setosa' 'setosa' 'setosa'\n",
      " 'setosa' 'setosa' 'versicolor' 'versicolor' 'versicolor' 'versicolor'\n",
      " 'versicolor' 'versicolor' 'versicolor' 'versicolor' 'versicolor'\n",
      " 'versicolor' 'versicolor' 'versicolor' 'versicolor' 'versicolor'\n",
      " 'versicolor' 'versicolor' 'versicolor' 'versicolor' 'versicolor'\n",
      " 'versicolor' 'versicolor' 'versicolor' 'versicolor' 'versicolor'\n",
      " 'versicolor' 'versicolor' 'versicolor' 'versicolor' 'versicolor'\n",
      " 'versicolor' 'versicolor' 'versicolor' 'versicolor' 'versicolor'\n",
      " 'versicolor' 'versicolor' 'versicolor' 'versicolor' 'versicolor'\n",
      " 'versicolor' 'versicolor' 'versicolor' 'versicolor' 'versicolor'\n",
      " 'versicolor' 'versicolor' 'versicolor' 'versicolor' 'versicolor'\n",
      " 'versicolor' 'virginica' 'virginica' 'virginica' 'virginica' 'virginica'\n",
      " 'virginica' 'virginica' 'virginica' 'virginica' 'virginica' 'virginica'\n",
      " 'virginica' 'virginica' 'virginica' 'virginica' 'virginica' 'virginica'\n",
      " 'virginica' 'virginica' 'virginica' 'virginica' 'virginica' 'virginica'\n",
      " 'virginica' 'virginica' 'virginica' 'virginica' 'virginica' 'virginica'\n",
      " 'virginica' 'virginica' 'virginica' 'virginica' 'virginica' 'virginica'\n",
      " 'virginica' 'virginica' 'virginica' 'virginica' 'virginica' 'virginica'\n",
      " 'virginica' 'virginica' 'virginica' 'virginica' 'virginica' 'virginica'\n",
      " 'virginica' 'virginica' 'virginica']\n"
     ]
    }
   ],
   "source": [
    "Y = iris.iloc[:,4].values \n",
    "print(Y)"
   ]
  },
  {
   "cell_type": "code",
   "execution_count": 227,
   "metadata": {},
   "outputs": [
    {
     "name": "stdout",
     "output_type": "stream",
     "text": [
      "[[5.1 3.5 1.4 0.2]\n",
      " [4.9 3.  1.4 0.2]\n",
      " [4.7 3.2 1.3 0.2]\n",
      " [4.6 3.1 1.5 0.2]\n",
      " [5.  3.6 1.4 0.2]\n",
      " [5.4 3.9 1.7 0.4]\n",
      " [4.6 3.4 1.4 0.3]\n",
      " [5.  3.4 1.5 0.2]\n",
      " [4.4 2.9 1.4 0.2]\n",
      " [4.9 3.1 1.5 0.1]\n",
      " [5.4 3.7 1.5 0.2]\n",
      " [4.8 3.4 1.6 0.2]\n",
      " [4.8 3.  1.4 0.1]\n",
      " [4.3 3.  1.1 0.1]\n",
      " [5.8 4.  1.2 0.2]\n",
      " [5.7 4.4 1.5 0.4]\n",
      " [5.4 3.9 1.3 0.4]\n",
      " [5.1 3.5 1.4 0.3]\n",
      " [5.7 3.8 1.7 0.3]\n",
      " [5.1 3.8 1.5 0.3]\n",
      " [5.4 3.4 1.7 0.2]\n",
      " [5.1 3.7 1.5 0.4]\n",
      " [4.6 3.6 1.  0.2]\n",
      " [5.1 3.3 1.7 0.5]\n",
      " [4.8 3.4 1.9 0.2]\n",
      " [5.  3.  1.6 0.2]\n",
      " [5.  3.4 1.6 0.4]\n",
      " [5.2 3.5 1.5 0.2]\n",
      " [5.2 3.4 1.4 0.2]\n",
      " [4.7 3.2 1.6 0.2]\n",
      " [4.8 3.1 1.6 0.2]\n",
      " [5.4 3.4 1.5 0.4]\n",
      " [5.2 4.1 1.5 0.1]\n",
      " [5.5 4.2 1.4 0.2]\n",
      " [4.9 3.1 1.5 0.2]\n",
      " [5.  3.2 1.2 0.2]\n",
      " [5.5 3.5 1.3 0.2]\n",
      " [4.9 3.6 1.4 0.1]\n",
      " [4.4 3.  1.3 0.2]\n",
      " [5.1 3.4 1.5 0.2]\n",
      " [5.  3.5 1.3 0.3]\n",
      " [4.5 2.3 1.3 0.3]\n",
      " [4.4 3.2 1.3 0.2]\n",
      " [5.  3.5 1.6 0.6]\n",
      " [5.1 3.8 1.9 0.4]\n",
      " [4.8 3.  1.4 0.3]\n",
      " [5.1 3.8 1.6 0.2]\n",
      " [4.6 3.2 1.4 0.2]\n",
      " [5.3 3.7 1.5 0.2]\n",
      " [5.  3.3 1.4 0.2]\n",
      " [7.  3.2 4.7 1.4]\n",
      " [6.4 3.2 4.5 1.5]\n",
      " [6.9 3.1 4.9 1.5]\n",
      " [5.5 2.3 4.  1.3]\n",
      " [6.5 2.8 4.6 1.5]\n",
      " [5.7 2.8 4.5 1.3]\n",
      " [6.3 3.3 4.7 1.6]\n",
      " [4.9 2.4 3.3 1. ]\n",
      " [6.6 2.9 4.6 1.3]\n",
      " [5.2 2.7 3.9 1.4]\n",
      " [5.  2.  3.5 1. ]\n",
      " [5.9 3.  4.2 1.5]\n",
      " [6.  2.2 4.  1. ]\n",
      " [6.1 2.9 4.7 1.4]\n",
      " [5.6 2.9 3.6 1.3]\n",
      " [6.7 3.1 4.4 1.4]\n",
      " [5.6 3.  4.5 1.5]\n",
      " [5.8 2.7 4.1 1. ]\n",
      " [6.2 2.2 4.5 1.5]\n",
      " [5.6 2.5 3.9 1.1]\n",
      " [5.9 3.2 4.8 1.8]\n",
      " [6.1 2.8 4.  1.3]\n",
      " [6.3 2.5 4.9 1.5]\n",
      " [6.1 2.8 4.7 1.2]\n",
      " [6.4 2.9 4.3 1.3]\n",
      " [6.6 3.  4.4 1.4]\n",
      " [6.8 2.8 4.8 1.4]\n",
      " [6.7 3.  5.  1.7]\n",
      " [6.  2.9 4.5 1.5]\n",
      " [5.7 2.6 3.5 1. ]\n",
      " [5.5 2.4 3.8 1.1]\n",
      " [5.5 2.4 3.7 1. ]\n",
      " [5.8 2.7 3.9 1.2]\n",
      " [6.  2.7 5.1 1.6]\n",
      " [5.4 3.  4.5 1.5]\n",
      " [6.  3.4 4.5 1.6]\n",
      " [6.7 3.1 4.7 1.5]\n",
      " [6.3 2.3 4.4 1.3]\n",
      " [5.6 3.  4.1 1.3]\n",
      " [5.5 2.5 4.  1.3]\n",
      " [5.5 2.6 4.4 1.2]\n",
      " [6.1 3.  4.6 1.4]\n",
      " [5.8 2.6 4.  1.2]\n",
      " [5.  2.3 3.3 1. ]\n",
      " [5.6 2.7 4.2 1.3]\n",
      " [5.7 3.  4.2 1.2]\n",
      " [5.7 2.9 4.2 1.3]\n",
      " [6.2 2.9 4.3 1.3]\n",
      " [5.1 2.5 3.  1.1]\n",
      " [5.7 2.8 4.1 1.3]\n",
      " [6.3 3.3 6.  2.5]\n",
      " [5.8 2.7 5.1 1.9]\n",
      " [7.1 3.  5.9 2.1]\n",
      " [6.3 2.9 5.6 1.8]\n",
      " [6.5 3.  5.8 2.2]\n",
      " [7.6 3.  6.6 2.1]\n",
      " [4.9 2.5 4.5 1.7]\n",
      " [7.3 2.9 6.3 1.8]\n",
      " [6.7 2.5 5.8 1.8]\n",
      " [7.2 3.6 6.1 2.5]\n",
      " [6.5 3.2 5.1 2. ]\n",
      " [6.4 2.7 5.3 1.9]\n",
      " [6.8 3.  5.5 2.1]\n",
      " [5.7 2.5 5.  2. ]\n",
      " [5.8 2.8 5.1 2.4]\n",
      " [6.4 3.2 5.3 2.3]\n",
      " [6.5 3.  5.5 1.8]\n",
      " [7.7 3.8 6.7 2.2]\n",
      " [7.7 2.6 6.9 2.3]\n",
      " [6.  2.2 5.  1.5]\n",
      " [6.9 3.2 5.7 2.3]\n",
      " [5.6 2.8 4.9 2. ]\n",
      " [7.7 2.8 6.7 2. ]\n",
      " [6.3 2.7 4.9 1.8]\n",
      " [6.7 3.3 5.7 2.1]\n",
      " [7.2 3.2 6.  1.8]\n",
      " [6.2 2.8 4.8 1.8]\n",
      " [6.1 3.  4.9 1.8]\n",
      " [6.4 2.8 5.6 2.1]\n",
      " [7.2 3.  5.8 1.6]\n",
      " [7.4 2.8 6.1 1.9]\n",
      " [7.9 3.8 6.4 2. ]\n",
      " [6.4 2.8 5.6 2.2]\n",
      " [6.3 2.8 5.1 1.5]\n",
      " [6.1 2.6 5.6 1.4]\n",
      " [7.7 3.  6.1 2.3]\n",
      " [6.3 3.4 5.6 2.4]\n",
      " [6.4 3.1 5.5 1.8]\n",
      " [6.  3.  4.8 1.8]\n",
      " [6.9 3.1 5.4 2.1]\n",
      " [6.7 3.1 5.6 2.4]\n",
      " [6.9 3.1 5.1 2.3]\n",
      " [5.8 2.7 5.1 1.9]\n",
      " [6.8 3.2 5.9 2.3]\n",
      " [6.7 3.3 5.7 2.5]\n",
      " [6.7 3.  5.2 2.3]\n",
      " [6.3 2.5 5.  1.9]\n",
      " [6.5 3.  5.2 2. ]\n",
      " [6.2 3.4 5.4 2.3]\n",
      " [5.9 3.  5.1 1.8]]\n"
     ]
    }
   ],
   "source": [
    "# on récupere les X (matrice qui regroupe toutes les colonnes)\n",
    "X = iris.iloc[:,-5:-1].values\n",
    "print(X)"
   ]
  },
  {
   "cell_type": "code",
   "execution_count": 230,
   "metadata": {},
   "outputs": [
    {
     "ename": "IndexError",
     "evalue": "too many indices for array",
     "output_type": "error",
     "traceback": [
      "\u001b[1;31m---------------------------------------------------------------------------\u001b[0m",
      "\u001b[1;31mIndexError\u001b[0m                                Traceback (most recent call last)",
      "\u001b[1;32m<ipython-input-230-e9390650b612>\u001b[0m in \u001b[0;36m<module>\u001b[1;34m\u001b[0m\n\u001b[0;32m      1\u001b[0m \u001b[0mLabEnc_Y\u001b[0m \u001b[1;33m=\u001b[0m \u001b[0mLabelEncoder\u001b[0m\u001b[1;33m(\u001b[0m\u001b[1;33m)\u001b[0m\u001b[1;33m\u001b[0m\u001b[1;33m\u001b[0m\u001b[0m\n\u001b[0;32m      2\u001b[0m \u001b[1;33m\u001b[0m\u001b[0m\n\u001b[1;32m----> 3\u001b[1;33m \u001b[0mprint\u001b[0m\u001b[1;33m(\u001b[0m\u001b[0mY\u001b[0m\u001b[1;33m[\u001b[0m\u001b[1;33m:\u001b[0m\u001b[1;33m,\u001b[0m\u001b[1;33m-\u001b[0m\u001b[1;36m1\u001b[0m\u001b[1;33m]\u001b[0m\u001b[1;33m)\u001b[0m\u001b[1;33m\u001b[0m\u001b[1;33m\u001b[0m\u001b[0m\n\u001b[0m\u001b[0;32m      4\u001b[0m \u001b[1;31m#Encodage de la colonne espèces du tableau qui est catégorielle\u001b[0m\u001b[1;33m\u001b[0m\u001b[1;33m\u001b[0m\u001b[1;33m\u001b[0m\u001b[0m\n\u001b[0;32m      5\u001b[0m \u001b[0mY\u001b[0m\u001b[1;33m[\u001b[0m\u001b[1;33m:\u001b[0m\u001b[1;33m,\u001b[0m\u001b[1;33m-\u001b[0m\u001b[1;36m1\u001b[0m\u001b[1;33m]\u001b[0m\u001b[1;33m=\u001b[0m\u001b[0mLabEnc_Y\u001b[0m\u001b[1;33m.\u001b[0m\u001b[0mfit_transform\u001b[0m\u001b[1;33m(\u001b[0m\u001b[0mY\u001b[0m\u001b[1;33m[\u001b[0m\u001b[1;33m:\u001b[0m\u001b[1;33m,\u001b[0m\u001b[1;33m-\u001b[0m\u001b[1;36m1\u001b[0m\u001b[1;33m]\u001b[0m\u001b[1;33m)\u001b[0m\u001b[1;33m\u001b[0m\u001b[1;33m\u001b[0m\u001b[0m\n",
      "\u001b[1;31mIndexError\u001b[0m: too many indices for array"
     ]
    }
   ],
   "source": [
    "LabEnc_Y = LabelEncoder()\n",
    "\n",
    "print(Y[:,-1])\n",
    "#Encodage de la colonne espèces du tableau qui est catégorielle \n",
    "Y[:,-1]=LabEnc_Y.fit_transform(Y[:,-1])\n",
    "print(\"***************\")\n",
    "print(Y[:,-1])\n"
   ]
  },
  {
   "cell_type": "code",
   "execution_count": 325,
   "metadata": {},
   "outputs": [
    {
     "ename": "IndexError",
     "evalue": "too many indices for array",
     "output_type": "error",
     "traceback": [
      "\u001b[1;31m---------------------------------------------------------------------------\u001b[0m",
      "\u001b[1;31mIndexError\u001b[0m                                Traceback (most recent call last)",
      "\u001b[1;32m<ipython-input-325-d7c04850ee4c>\u001b[0m in \u001b[0;36m<module>\u001b[1;34m\u001b[0m\n\u001b[0;32m      3\u001b[0m \u001b[0mLabEnc_Y\u001b[0m \u001b[1;33m=\u001b[0m \u001b[0mLabelEncoder\u001b[0m\u001b[1;33m(\u001b[0m\u001b[1;33m)\u001b[0m\u001b[1;33m\u001b[0m\u001b[1;33m\u001b[0m\u001b[0m\n\u001b[0;32m      4\u001b[0m \u001b[1;33m\u001b[0m\u001b[0m\n\u001b[1;32m----> 5\u001b[1;33m \u001b[0mprint\u001b[0m\u001b[1;33m(\u001b[0m\u001b[0mY\u001b[0m\u001b[1;33m[\u001b[0m\u001b[1;33m:\u001b[0m\u001b[1;33m,\u001b[0m\u001b[1;36m4\u001b[0m\u001b[1;33m]\u001b[0m\u001b[1;33m)\u001b[0m\u001b[1;33m\u001b[0m\u001b[1;33m\u001b[0m\u001b[0m\n\u001b[0m\u001b[0;32m      6\u001b[0m \u001b[1;33m\u001b[0m\u001b[0m\n\u001b[0;32m      7\u001b[0m \u001b[0mY\u001b[0m\u001b[1;33m[\u001b[0m\u001b[1;33m:\u001b[0m\u001b[1;33m,\u001b[0m\u001b[1;36m4\u001b[0m\u001b[1;33m]\u001b[0m\u001b[1;33m=\u001b[0m\u001b[0mLabEnc_Y\u001b[0m\u001b[1;33m.\u001b[0m\u001b[0mfit_transform\u001b[0m\u001b[1;33m(\u001b[0m\u001b[0mY\u001b[0m\u001b[1;33m[\u001b[0m\u001b[1;33m:\u001b[0m\u001b[1;33m,\u001b[0m\u001b[1;36m4\u001b[0m\u001b[1;33m]\u001b[0m\u001b[1;33m)\u001b[0m\u001b[1;33m\u001b[0m\u001b[1;33m\u001b[0m\u001b[0m\n",
      "\u001b[1;31mIndexError\u001b[0m: too many indices for array"
     ]
    }
   ],
   "source": [
    "##Méthode 1 avec LabelEncoder-> on donne un code aux variables qualitatives \n",
    "\n",
    "LabEnc_Y = LabelEncoder()\n",
    "\n",
    "print(Y[:,4])\n",
    "\n",
    "Y[:,4]=LabEnc_Y.fit_transform(Y[:,4])\n",
    "print(\"***************\")\n",
    "print(Y[:,4])"
   ]
  },
  {
   "cell_type": "code",
   "execution_count": 302,
   "metadata": {},
   "outputs": [
    {
     "name": "stdout",
     "output_type": "stream",
     "text": [
      "(120, 4) (30, 4) (120,) (30,)\n"
     ]
    }
   ],
   "source": [
    "X_app,X_test,Y_app,Y_test = train_test_split(X,Y,test_size= 0.2,random_state=0)\n",
    "print(X_app.shape,X_test.shape,Y_app.shape,Y_test.shape)"
   ]
  },
  {
   "cell_type": "code",
   "execution_count": 303,
   "metadata": {},
   "outputs": [
    {
     "name": "stdout",
     "output_type": "stream",
     "text": [
      "[[5.8 2.8 5.1 2.4]\n",
      " [6.  2.2 4.  1. ]\n",
      " [5.5 4.2 1.4 0.2]\n",
      " [7.3 2.9 6.3 1.8]\n",
      " [5.  3.4 1.5 0.2]\n",
      " [6.3 3.3 6.  2.5]\n",
      " [5.  3.5 1.3 0.3]\n",
      " [6.7 3.1 4.7 1.5]\n",
      " [6.8 2.8 4.8 1.4]\n",
      " [6.1 2.8 4.  1.3]\n",
      " [6.1 2.6 5.6 1.4]\n",
      " [6.4 3.2 4.5 1.5]\n",
      " [6.1 2.8 4.7 1.2]\n",
      " [6.5 2.8 4.6 1.5]\n",
      " [6.1 2.9 4.7 1.4]\n",
      " [4.9 3.6 1.4 0.1]\n",
      " [6.  2.9 4.5 1.5]\n",
      " [5.5 2.6 4.4 1.2]\n",
      " [4.8 3.  1.4 0.3]\n",
      " [5.4 3.9 1.3 0.4]\n",
      " [5.6 2.8 4.9 2. ]\n",
      " [5.6 3.  4.5 1.5]\n",
      " [4.8 3.4 1.9 0.2]\n",
      " [4.4 2.9 1.4 0.2]\n",
      " [6.2 2.8 4.8 1.8]\n",
      " [4.6 3.6 1.  0.2]\n",
      " [5.1 3.8 1.9 0.4]\n",
      " [6.2 2.9 4.3 1.3]\n",
      " [5.  2.3 3.3 1. ]\n",
      " [5.  3.4 1.6 0.4]]\n",
      "=====================================\n",
      "[[ 0.14956537 -0.6062277   0.94476368  1.91948971]\n",
      " [ 0.43000045 -1.93697143  0.28422975 -0.10102577]\n",
      " [-0.27108724  2.49884101 -1.27703226 -1.25560605]\n",
      " [ 2.25282843 -0.38443708  1.66534614  1.0535545 ]\n",
      " [-0.97217492  0.72451603 -1.21698372 -1.25560605]\n",
      " [ 0.85065306  0.50272541  1.48520053  2.06381224]\n",
      " [-0.97217492  0.94630665 -1.3370808  -1.11128352]\n",
      " [ 1.41152321  0.05914417  0.70456952  0.6205869 ]\n",
      " [ 1.55174074 -0.6062277   0.76461806  0.47626436]\n",
      " [ 0.57021798 -0.6062277   0.28422975  0.33194183]\n",
      " [ 0.57021798 -1.04980894  1.24500637  0.47626436]\n",
      " [ 0.9908706   0.28093479  0.58447244  0.6205869 ]\n",
      " [ 0.57021798 -0.6062277   0.70456952  0.18761929]\n",
      " [ 1.13108813 -0.6062277   0.64452098  0.6205869 ]\n",
      " [ 0.57021798 -0.38443708  0.70456952  0.47626436]\n",
      " [-1.11239246  1.16809728 -1.27703226 -1.39992858]\n",
      " [ 0.43000045 -0.38443708  0.58447244  0.6205869 ]\n",
      " [-0.27108724 -1.04980894  0.52442391  0.18761929]\n",
      " [-1.25261    -0.16264646 -1.27703226 -1.11128352]\n",
      " [-0.41130478  1.83346914 -1.3370808  -0.96696098]\n",
      " [-0.1308697  -0.6062277   0.8246666   1.34219957]\n",
      " [-0.1308697  -0.16264646  0.58447244  0.6205869 ]\n",
      " [-1.25261     0.72451603 -0.97678957 -1.25560605]\n",
      " [-1.81348015 -0.38443708 -1.27703226 -1.25560605]\n",
      " [ 0.71043552 -0.6062277   0.76461806  1.0535545 ]\n",
      " [-1.53304507  1.16809728 -1.51722641 -1.25560605]\n",
      " [-0.83195739  1.61167852 -0.97678957 -0.96696098]\n",
      " [ 0.71043552 -0.38443708  0.46437537  0.33194183]\n",
      " [-0.97217492 -1.71518081 -0.13611002 -0.10102577]\n",
      " [-0.97217492  0.72451603 -1.15693518 -0.96696098]]\n"
     ]
    }
   ],
   "source": [
    "scaler = StandardScaler()\n",
    "\n",
    "print(X_test)\n",
    "\n",
    "\n",
    "X_test = scaler.fit_transform(X_test)\n",
    "print(\"=====================================\")\n",
    "print(X_test)"
   ]
  },
  {
   "cell_type": "code",
   "execution_count": 304,
   "metadata": {},
   "outputs": [
    {
     "ename": "ValueError",
     "evalue": "x and y must be the same size",
     "output_type": "error",
     "traceback": [
      "\u001b[1;31m---------------------------------------------------------------------------\u001b[0m",
      "\u001b[1;31mValueError\u001b[0m                                Traceback (most recent call last)",
      "\u001b[1;32m<ipython-input-304-2753a7a4949f>\u001b[0m in \u001b[0;36m<module>\u001b[1;34m\u001b[0m\n\u001b[1;32m----> 1\u001b[1;33m \u001b[0mplt\u001b[0m\u001b[1;33m.\u001b[0m\u001b[0mscatter\u001b[0m\u001b[1;33m(\u001b[0m\u001b[0mX\u001b[0m\u001b[1;33m,\u001b[0m \u001b[0mY\u001b[0m\u001b[1;33m)\u001b[0m\u001b[1;33m\u001b[0m\u001b[1;33m\u001b[0m\u001b[0m\n\u001b[0m",
      "\u001b[1;32m~\\anaconda3\\lib\\site-packages\\matplotlib\\pyplot.py\u001b[0m in \u001b[0;36mscatter\u001b[1;34m(x, y, s, c, marker, cmap, norm, vmin, vmax, alpha, linewidths, verts, edgecolors, plotnonfinite, data, **kwargs)\u001b[0m\n\u001b[0;32m   2809\u001b[0m         \u001b[0mverts\u001b[0m\u001b[1;33m=\u001b[0m\u001b[0mcbook\u001b[0m\u001b[1;33m.\u001b[0m\u001b[0mdeprecation\u001b[0m\u001b[1;33m.\u001b[0m\u001b[0m_deprecated_parameter\u001b[0m\u001b[1;33m,\u001b[0m\u001b[1;33m\u001b[0m\u001b[1;33m\u001b[0m\u001b[0m\n\u001b[0;32m   2810\u001b[0m         edgecolors=None, *, plotnonfinite=False, data=None, **kwargs):\n\u001b[1;32m-> 2811\u001b[1;33m     __ret = gca().scatter(\n\u001b[0m\u001b[0;32m   2812\u001b[0m         \u001b[0mx\u001b[0m\u001b[1;33m,\u001b[0m \u001b[0my\u001b[0m\u001b[1;33m,\u001b[0m \u001b[0ms\u001b[0m\u001b[1;33m=\u001b[0m\u001b[0ms\u001b[0m\u001b[1;33m,\u001b[0m \u001b[0mc\u001b[0m\u001b[1;33m=\u001b[0m\u001b[0mc\u001b[0m\u001b[1;33m,\u001b[0m \u001b[0mmarker\u001b[0m\u001b[1;33m=\u001b[0m\u001b[0mmarker\u001b[0m\u001b[1;33m,\u001b[0m \u001b[0mcmap\u001b[0m\u001b[1;33m=\u001b[0m\u001b[0mcmap\u001b[0m\u001b[1;33m,\u001b[0m \u001b[0mnorm\u001b[0m\u001b[1;33m=\u001b[0m\u001b[0mnorm\u001b[0m\u001b[1;33m,\u001b[0m\u001b[1;33m\u001b[0m\u001b[1;33m\u001b[0m\u001b[0m\n\u001b[0;32m   2813\u001b[0m         \u001b[0mvmin\u001b[0m\u001b[1;33m=\u001b[0m\u001b[0mvmin\u001b[0m\u001b[1;33m,\u001b[0m \u001b[0mvmax\u001b[0m\u001b[1;33m=\u001b[0m\u001b[0mvmax\u001b[0m\u001b[1;33m,\u001b[0m \u001b[0malpha\u001b[0m\u001b[1;33m=\u001b[0m\u001b[0malpha\u001b[0m\u001b[1;33m,\u001b[0m \u001b[0mlinewidths\u001b[0m\u001b[1;33m=\u001b[0m\u001b[0mlinewidths\u001b[0m\u001b[1;33m,\u001b[0m\u001b[1;33m\u001b[0m\u001b[1;33m\u001b[0m\u001b[0m\n",
      "\u001b[1;32m~\\anaconda3\\lib\\site-packages\\matplotlib\\__init__.py\u001b[0m in \u001b[0;36minner\u001b[1;34m(ax, data, *args, **kwargs)\u001b[0m\n\u001b[0;32m   1563\u001b[0m     \u001b[1;32mdef\u001b[0m \u001b[0minner\u001b[0m\u001b[1;33m(\u001b[0m\u001b[0max\u001b[0m\u001b[1;33m,\u001b[0m \u001b[1;33m*\u001b[0m\u001b[0margs\u001b[0m\u001b[1;33m,\u001b[0m \u001b[0mdata\u001b[0m\u001b[1;33m=\u001b[0m\u001b[1;32mNone\u001b[0m\u001b[1;33m,\u001b[0m \u001b[1;33m**\u001b[0m\u001b[0mkwargs\u001b[0m\u001b[1;33m)\u001b[0m\u001b[1;33m:\u001b[0m\u001b[1;33m\u001b[0m\u001b[1;33m\u001b[0m\u001b[0m\n\u001b[0;32m   1564\u001b[0m         \u001b[1;32mif\u001b[0m \u001b[0mdata\u001b[0m \u001b[1;32mis\u001b[0m \u001b[1;32mNone\u001b[0m\u001b[1;33m:\u001b[0m\u001b[1;33m\u001b[0m\u001b[1;33m\u001b[0m\u001b[0m\n\u001b[1;32m-> 1565\u001b[1;33m             \u001b[1;32mreturn\u001b[0m \u001b[0mfunc\u001b[0m\u001b[1;33m(\u001b[0m\u001b[0max\u001b[0m\u001b[1;33m,\u001b[0m \u001b[1;33m*\u001b[0m\u001b[0mmap\u001b[0m\u001b[1;33m(\u001b[0m\u001b[0msanitize_sequence\u001b[0m\u001b[1;33m,\u001b[0m \u001b[0margs\u001b[0m\u001b[1;33m)\u001b[0m\u001b[1;33m,\u001b[0m \u001b[1;33m**\u001b[0m\u001b[0mkwargs\u001b[0m\u001b[1;33m)\u001b[0m\u001b[1;33m\u001b[0m\u001b[1;33m\u001b[0m\u001b[0m\n\u001b[0m\u001b[0;32m   1566\u001b[0m \u001b[1;33m\u001b[0m\u001b[0m\n\u001b[0;32m   1567\u001b[0m         \u001b[0mbound\u001b[0m \u001b[1;33m=\u001b[0m \u001b[0mnew_sig\u001b[0m\u001b[1;33m.\u001b[0m\u001b[0mbind\u001b[0m\u001b[1;33m(\u001b[0m\u001b[0max\u001b[0m\u001b[1;33m,\u001b[0m \u001b[1;33m*\u001b[0m\u001b[0margs\u001b[0m\u001b[1;33m,\u001b[0m \u001b[1;33m**\u001b[0m\u001b[0mkwargs\u001b[0m\u001b[1;33m)\u001b[0m\u001b[1;33m\u001b[0m\u001b[1;33m\u001b[0m\u001b[0m\n",
      "\u001b[1;32m~\\anaconda3\\lib\\site-packages\\matplotlib\\cbook\\deprecation.py\u001b[0m in \u001b[0;36mwrapper\u001b[1;34m(*args, **kwargs)\u001b[0m\n\u001b[0;32m    356\u001b[0m                 \u001b[1;34mf\"%(removal)s.  If any parameter follows {name!r}, they \"\u001b[0m\u001b[1;33m\u001b[0m\u001b[1;33m\u001b[0m\u001b[0m\n\u001b[0;32m    357\u001b[0m                 f\"should be pass as keyword, not positionally.\")\n\u001b[1;32m--> 358\u001b[1;33m         \u001b[1;32mreturn\u001b[0m \u001b[0mfunc\u001b[0m\u001b[1;33m(\u001b[0m\u001b[1;33m*\u001b[0m\u001b[0margs\u001b[0m\u001b[1;33m,\u001b[0m \u001b[1;33m**\u001b[0m\u001b[0mkwargs\u001b[0m\u001b[1;33m)\u001b[0m\u001b[1;33m\u001b[0m\u001b[1;33m\u001b[0m\u001b[0m\n\u001b[0m\u001b[0;32m    359\u001b[0m \u001b[1;33m\u001b[0m\u001b[0m\n\u001b[0;32m    360\u001b[0m     \u001b[1;32mreturn\u001b[0m \u001b[0mwrapper\u001b[0m\u001b[1;33m\u001b[0m\u001b[1;33m\u001b[0m\u001b[0m\n",
      "\u001b[1;32m~\\anaconda3\\lib\\site-packages\\matplotlib\\axes\\_axes.py\u001b[0m in \u001b[0;36mscatter\u001b[1;34m(self, x, y, s, c, marker, cmap, norm, vmin, vmax, alpha, linewidths, verts, edgecolors, plotnonfinite, **kwargs)\u001b[0m\n\u001b[0;32m   4389\u001b[0m         \u001b[0my\u001b[0m \u001b[1;33m=\u001b[0m \u001b[0mnp\u001b[0m\u001b[1;33m.\u001b[0m\u001b[0mma\u001b[0m\u001b[1;33m.\u001b[0m\u001b[0mravel\u001b[0m\u001b[1;33m(\u001b[0m\u001b[0my\u001b[0m\u001b[1;33m)\u001b[0m\u001b[1;33m\u001b[0m\u001b[1;33m\u001b[0m\u001b[0m\n\u001b[0;32m   4390\u001b[0m         \u001b[1;32mif\u001b[0m \u001b[0mx\u001b[0m\u001b[1;33m.\u001b[0m\u001b[0msize\u001b[0m \u001b[1;33m!=\u001b[0m \u001b[0my\u001b[0m\u001b[1;33m.\u001b[0m\u001b[0msize\u001b[0m\u001b[1;33m:\u001b[0m\u001b[1;33m\u001b[0m\u001b[1;33m\u001b[0m\u001b[0m\n\u001b[1;32m-> 4391\u001b[1;33m             \u001b[1;32mraise\u001b[0m \u001b[0mValueError\u001b[0m\u001b[1;33m(\u001b[0m\u001b[1;34m\"x and y must be the same size\"\u001b[0m\u001b[1;33m)\u001b[0m\u001b[1;33m\u001b[0m\u001b[1;33m\u001b[0m\u001b[0m\n\u001b[0m\u001b[0;32m   4392\u001b[0m \u001b[1;33m\u001b[0m\u001b[0m\n\u001b[0;32m   4393\u001b[0m         \u001b[1;32mif\u001b[0m \u001b[0ms\u001b[0m \u001b[1;32mis\u001b[0m \u001b[1;32mNone\u001b[0m\u001b[1;33m:\u001b[0m\u001b[1;33m\u001b[0m\u001b[1;33m\u001b[0m\u001b[0m\n",
      "\u001b[1;31mValueError\u001b[0m: x and y must be the same size"
     ]
    },
    {
     "data": {
      "image/png": "[encoded data removed]",
      "text/plain": [
       "<Figure size 432x288 with 1 Axes>"
      ]
     },
     "metadata": {
      "needs_background": "light"
     },
     "output_type": "display_data"
    }
   ],
   "source": [
    "plt.scatter(X, Y)"
   ]
  },
  {
   "cell_type": "code",
   "execution_count": 305,
   "metadata": {},
   "outputs": [
    {
     "ename": "TypeError",
     "evalue": "unsupported operand type(s) for +: 'float' and 'str'",
     "output_type": "error",
     "traceback": [
      "\u001b[1;31m---------------------------------------------------------------------------\u001b[0m",
      "\u001b[1;31mTypeError\u001b[0m                                 Traceback (most recent call last)",
      "\u001b[1;32m<ipython-input-305-46eb4da7330a>\u001b[0m in \u001b[0;36m<module>\u001b[1;34m\u001b[0m\n\u001b[1;32m----> 1\u001b[1;33m \u001b[0mnp\u001b[0m\u001b[1;33m.\u001b[0m\u001b[0mcorrcoef\u001b[0m\u001b[1;33m(\u001b[0m\u001b[0miris\u001b[0m\u001b[1;33m)\u001b[0m\u001b[1;33m\u001b[0m\u001b[1;33m\u001b[0m\u001b[0m\n\u001b[0m",
      "\u001b[1;32m<__array_function__ internals>\u001b[0m in \u001b[0;36mcorrcoef\u001b[1;34m(*args, **kwargs)\u001b[0m\n",
      "\u001b[1;32m~\\anaconda3\\lib\\site-packages\\numpy\\lib\\function_base.py\u001b[0m in \u001b[0;36mcorrcoef\u001b[1;34m(x, y, rowvar, bias, ddof)\u001b[0m\n\u001b[0;32m   2524\u001b[0m         warnings.warn('bias and ddof have no effect and are deprecated',\n\u001b[0;32m   2525\u001b[0m                       DeprecationWarning, stacklevel=3)\n\u001b[1;32m-> 2526\u001b[1;33m     \u001b[0mc\u001b[0m \u001b[1;33m=\u001b[0m \u001b[0mcov\u001b[0m\u001b[1;33m(\u001b[0m\u001b[0mx\u001b[0m\u001b[1;33m,\u001b[0m \u001b[0my\u001b[0m\u001b[1;33m,\u001b[0m \u001b[0mrowvar\u001b[0m\u001b[1;33m)\u001b[0m\u001b[1;33m\u001b[0m\u001b[1;33m\u001b[0m\u001b[0m\n\u001b[0m\u001b[0;32m   2527\u001b[0m     \u001b[1;32mtry\u001b[0m\u001b[1;33m:\u001b[0m\u001b[1;33m\u001b[0m\u001b[1;33m\u001b[0m\u001b[0m\n\u001b[0;32m   2528\u001b[0m         \u001b[0md\u001b[0m \u001b[1;33m=\u001b[0m \u001b[0mdiag\u001b[0m\u001b[1;33m(\u001b[0m\u001b[0mc\u001b[0m\u001b[1;33m)\u001b[0m\u001b[1;33m\u001b[0m\u001b[1;33m\u001b[0m\u001b[0m\n",
      "\u001b[1;32m<__array_function__ internals>\u001b[0m in \u001b[0;36mcov\u001b[1;34m(*args, **kwargs)\u001b[0m\n",
      "\u001b[1;32m~\\anaconda3\\lib\\site-packages\\numpy\\lib\\function_base.py\u001b[0m in \u001b[0;36mcov\u001b[1;34m(m, y, rowvar, bias, ddof, fweights, aweights)\u001b[0m\n\u001b[0;32m   2429\u001b[0m             \u001b[0mw\u001b[0m \u001b[1;33m*=\u001b[0m \u001b[0maweights\u001b[0m\u001b[1;33m\u001b[0m\u001b[1;33m\u001b[0m\u001b[0m\n\u001b[0;32m   2430\u001b[0m \u001b[1;33m\u001b[0m\u001b[0m\n\u001b[1;32m-> 2431\u001b[1;33m     \u001b[0mavg\u001b[0m\u001b[1;33m,\u001b[0m \u001b[0mw_sum\u001b[0m \u001b[1;33m=\u001b[0m \u001b[0maverage\u001b[0m\u001b[1;33m(\u001b[0m\u001b[0mX\u001b[0m\u001b[1;33m,\u001b[0m \u001b[0maxis\u001b[0m\u001b[1;33m=\u001b[0m\u001b[1;36m1\u001b[0m\u001b[1;33m,\u001b[0m \u001b[0mweights\u001b[0m\u001b[1;33m=\u001b[0m\u001b[0mw\u001b[0m\u001b[1;33m,\u001b[0m \u001b[0mreturned\u001b[0m\u001b[1;33m=\u001b[0m\u001b[1;32mTrue\u001b[0m\u001b[1;33m)\u001b[0m\u001b[1;33m\u001b[0m\u001b[1;33m\u001b[0m\u001b[0m\n\u001b[0m\u001b[0;32m   2432\u001b[0m     \u001b[0mw_sum\u001b[0m \u001b[1;33m=\u001b[0m \u001b[0mw_sum\u001b[0m\u001b[1;33m[\u001b[0m\u001b[1;36m0\u001b[0m\u001b[1;33m]\u001b[0m\u001b[1;33m\u001b[0m\u001b[1;33m\u001b[0m\u001b[0m\n\u001b[0;32m   2433\u001b[0m \u001b[1;33m\u001b[0m\u001b[0m\n",
      "\u001b[1;32m<__array_function__ internals>\u001b[0m in \u001b[0;36maverage\u001b[1;34m(*args, **kwargs)\u001b[0m\n",
      "\u001b[1;32m~\\anaconda3\\lib\\site-packages\\numpy\\lib\\function_base.py\u001b[0m in \u001b[0;36maverage\u001b[1;34m(a, axis, weights, returned)\u001b[0m\n\u001b[0;32m    391\u001b[0m \u001b[1;33m\u001b[0m\u001b[0m\n\u001b[0;32m    392\u001b[0m     \u001b[1;32mif\u001b[0m \u001b[0mweights\u001b[0m \u001b[1;32mis\u001b[0m \u001b[1;32mNone\u001b[0m\u001b[1;33m:\u001b[0m\u001b[1;33m\u001b[0m\u001b[1;33m\u001b[0m\u001b[0m\n\u001b[1;32m--> 393\u001b[1;33m         \u001b[0mavg\u001b[0m \u001b[1;33m=\u001b[0m \u001b[0ma\u001b[0m\u001b[1;33m.\u001b[0m\u001b[0mmean\u001b[0m\u001b[1;33m(\u001b[0m\u001b[0maxis\u001b[0m\u001b[1;33m)\u001b[0m\u001b[1;33m\u001b[0m\u001b[1;33m\u001b[0m\u001b[0m\n\u001b[0m\u001b[0;32m    394\u001b[0m         \u001b[0mscl\u001b[0m \u001b[1;33m=\u001b[0m \u001b[0mavg\u001b[0m\u001b[1;33m.\u001b[0m\u001b[0mdtype\u001b[0m\u001b[1;33m.\u001b[0m\u001b[0mtype\u001b[0m\u001b[1;33m(\u001b[0m\u001b[0ma\u001b[0m\u001b[1;33m.\u001b[0m\u001b[0msize\u001b[0m\u001b[1;33m/\u001b[0m\u001b[0mavg\u001b[0m\u001b[1;33m.\u001b[0m\u001b[0msize\u001b[0m\u001b[1;33m)\u001b[0m\u001b[1;33m\u001b[0m\u001b[1;33m\u001b[0m\u001b[0m\n\u001b[0;32m    395\u001b[0m     \u001b[1;32melse\u001b[0m\u001b[1;33m:\u001b[0m\u001b[1;33m\u001b[0m\u001b[1;33m\u001b[0m\u001b[0m\n",
      "\u001b[1;32m~\\anaconda3\\lib\\site-packages\\numpy\\core\\_methods.py\u001b[0m in \u001b[0;36m_mean\u001b[1;34m(a, axis, dtype, out, keepdims)\u001b[0m\n\u001b[0;32m    149\u001b[0m             \u001b[0mis_float16_result\u001b[0m \u001b[1;33m=\u001b[0m \u001b[1;32mTrue\u001b[0m\u001b[1;33m\u001b[0m\u001b[1;33m\u001b[0m\u001b[0m\n\u001b[0;32m    150\u001b[0m \u001b[1;33m\u001b[0m\u001b[0m\n\u001b[1;32m--> 151\u001b[1;33m     \u001b[0mret\u001b[0m \u001b[1;33m=\u001b[0m \u001b[0mumr_sum\u001b[0m\u001b[1;33m(\u001b[0m\u001b[0marr\u001b[0m\u001b[1;33m,\u001b[0m \u001b[0maxis\u001b[0m\u001b[1;33m,\u001b[0m \u001b[0mdtype\u001b[0m\u001b[1;33m,\u001b[0m \u001b[0mout\u001b[0m\u001b[1;33m,\u001b[0m \u001b[0mkeepdims\u001b[0m\u001b[1;33m)\u001b[0m\u001b[1;33m\u001b[0m\u001b[1;33m\u001b[0m\u001b[0m\n\u001b[0m\u001b[0;32m    152\u001b[0m     \u001b[1;32mif\u001b[0m \u001b[0misinstance\u001b[0m\u001b[1;33m(\u001b[0m\u001b[0mret\u001b[0m\u001b[1;33m,\u001b[0m \u001b[0mmu\u001b[0m\u001b[1;33m.\u001b[0m\u001b[0mndarray\u001b[0m\u001b[1;33m)\u001b[0m\u001b[1;33m:\u001b[0m\u001b[1;33m\u001b[0m\u001b[1;33m\u001b[0m\u001b[0m\n\u001b[0;32m    153\u001b[0m         ret = um.true_divide(\n",
      "\u001b[1;31mTypeError\u001b[0m: unsupported operand type(s) for +: 'float' and 'str'"
     ]
    }
   ],
   "source": [
    "np.corrcoef(iris)"
   ]
  }
 ],
 "metadata": {
  "kernelspec": {
   "display_name": "Python 3",
   "language": "python",
   "name": "python3"
  },
  "language_info": {
   "codemirror_mode": {
    "name": "ipython",
    "version": 3
   },
   "file_extension": ".py",
   "mimetype": "text/x-python",
   "name": "python",
   "nbconvert_exporter": "python",
   "pygments_lexer": "ipython3",
   "version": "3.8.3"
  }
 },
 "nbformat": 4,
 "nbformat_minor": 4
}
